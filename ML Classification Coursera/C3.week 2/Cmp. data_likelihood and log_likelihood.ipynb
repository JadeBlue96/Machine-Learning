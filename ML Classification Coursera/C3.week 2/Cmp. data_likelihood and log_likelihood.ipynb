{
 "cells": [
  {
   "cell_type": "code",
   "execution_count": 1,
   "metadata": {
    "collapsed": true
   },
   "outputs": [],
   "source": [
    "import numpy as np"
   ]
  },
  {
   "cell_type": "code",
   "execution_count": 4,
   "metadata": {
    "collapsed": false
   },
   "outputs": [],
   "source": [
    "dummy_feature_matrix=np.array([[1.,2.5],[1.,0.3],[1.,2.8],[1.,0.5]])\n",
    "dummy_coefficients=np.array([0.,1.])\n",
    "sentiment=np.array([1.,-1.,1.,1.])"
   ]
  },
  {
   "cell_type": "code",
   "execution_count": 6,
   "metadata": {
    "collapsed": false
   },
   "outputs": [
    {
     "name": "stdout",
     "output_type": "stream",
     "text": [
      "[ 0.92414182  0.57444252  0.94267582  0.62245933]\n",
      "Indicator:  [ True False  True  True]\n",
      "Probability of +1:  [ 0.92414182  0.57444252  0.94267582  0.62245933]\n",
      "Max. likelihood:  [ 0.92414182  0.42555748  0.94267582  0.62245933]\n",
      "0.230765141474\n"
     ]
    }
   ],
   "source": [
    "def predict_probability(feature_matrix,coefficients):\n",
    "    scores=np.dot(feature_matrix,coefficients)\n",
    "    predictions=1/(1+np.exp(-scores))\n",
    "    return predictions\n",
    "def compute_data_likelihood(sentiment,probability):\n",
    "    indicator=(sentiment==+1)\n",
    "    print \"Indicator: \",indicator\n",
    "    print \"Probability of +1: \",probability\n",
    "    probability[~indicator]=1-probability[~indicator]\n",
    "    print \"Max. likelihood: \",probability\n",
    "    return np.prod(probability)\n",
    "probability=predict_probability(dummy_feature_matrix,dummy_coefficients)\n",
    "print probability\n",
    "data_likelihood=compute_data_likelihood(sentiment,probability)\n",
    "print data_likelihood"
   ]
  },
  {
   "cell_type": "code",
   "execution_count": 7,
   "metadata": {
    "collapsed": false
   },
   "outputs": [
    {
     "name": "stdout",
     "output_type": "stream",
     "text": [
      "[ 0.92414182  0.57444252  0.94267582  0.62245933]\n",
      "Indicator:  [ True False  True  True]\n",
      "Contribution:  [ 0.18964545 -0.17233276  0.16050769  0.18877033]\n"
     ]
    },
    {
     "data": {
      "text/plain": [
       "0.36659072192551606"
      ]
     },
     "execution_count": 7,
     "metadata": {},
     "output_type": "execute_result"
    }
   ],
   "source": [
    "def compute_derivative_log_likelihood(feature_vector,sentiment,\n",
    "                                     probability):\n",
    "    indicator=(sentiment==+1)\n",
    "    print \"Indicator: \",indicator\n",
    "    contribution=feature_vector*(indicator-probability)\n",
    "    print \"Contribution: \",contribution\n",
    "    return np.sum(contribution)\n",
    "probability=predict_probability(dummy_feature_matrix,\n",
    "                               dummy_coefficients)\n",
    "print probability\n",
    "compute_derivative_log_likelihood(dummy_feature_matrix[:,1],\n",
    "                                 sentiment,probability)\n",
    "    "
   ]
  },
  {
   "cell_type": "code",
   "execution_count": null,
   "metadata": {
    "collapsed": true
   },
   "outputs": [],
   "source": []
  }
 ],
 "metadata": {
  "kernelspec": {
   "display_name": "Python 2",
   "language": "python",
   "name": "python2"
  },
  "language_info": {
   "codemirror_mode": {
    "name": "ipython",
    "version": 2
   },
   "file_extension": ".py",
   "mimetype": "text/x-python",
   "name": "python",
   "nbconvert_exporter": "python",
   "pygments_lexer": "ipython2",
   "version": "2.7.11"
  }
 },
 "nbformat": 4,
 "nbformat_minor": 0
}
