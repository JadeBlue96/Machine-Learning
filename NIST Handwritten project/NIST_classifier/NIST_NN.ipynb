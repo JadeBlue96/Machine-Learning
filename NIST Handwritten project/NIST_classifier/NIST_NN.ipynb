{
 "cells": [
  {
   "cell_type": "code",
   "execution_count": 1,
   "metadata": {
    "collapsed": true,
    "deletable": true,
    "editable": true
   },
   "outputs": [],
   "source": [
    "%matplotlib inline\n",
    "import matplotlib.pyplot as plt\n",
    "import tensorflow as tf\n",
    "import numpy as np\n",
    "import PIL.Image\n",
    "import pandas as pd\n",
    "import time\n",
    "from datetime import timedelta\n",
    "import math\n",
    "import dataset\n",
    "import random\n",
    "import os\n",
    "import cache"
   ]
  },
  {
   "cell_type": "code",
   "execution_count": 2,
   "metadata": {
    "collapsed": true,
    "deletable": true,
    "editable": true
   },
   "outputs": [],
   "source": [
    "import vgg16\n",
    "from vgg16 import transfer_values_cache\n",
    "from vgg16 import transfer_values_calc"
   ]
  },
  {
   "cell_type": "code",
   "execution_count": 3,
   "metadata": {
    "collapsed": false,
    "deletable": true,
    "editable": true
   },
   "outputs": [
    {
     "name": "stdout",
     "output_type": "stream",
     "text": [
      "Downloading VGG16 Model ...\n",
      "Data has apparently already been downloaded and unpacked.\n"
     ]
    }
   ],
   "source": [
    "vgg16.maybe_download()\n",
    "model=vgg16.VGG16()"
   ]
  },
  {
   "cell_type": "code",
   "execution_count": 4,
   "metadata": {
    "collapsed": true,
    "deletable": true,
    "editable": true
   },
   "outputs": [],
   "source": [
    "classes=['0','1','2','3','4','5','6','7','8','9','A','A_LOW','B','B_LOW','C','C_LOW','D','D_LOW','E','E_LOW','F','F_LOW','G',\n",
    "         'G_LOW','H','H_LOW','I','I_LOW','J','J_LOW','K','K_LOW','L','L_LOW','M','M_LOW','N','N_LOW','O','O_LOW','P','P_LOW','Q',\n",
    "         'Q_LOW','R','R_LOW','S','S_LOW','T','T_LOW','U','U_LOW','V','V_LOW','W','W_LOW','X','X_LOW','Y','Y_LOW','Z','Z_LOW']\n",
    "class_numbers=list(range(62))\n",
    "num_classes=len(classes)\n",
    "num_channels=3\n",
    "validation_size = .2\n",
    "img_size = 128\n",
    "#custom paths\n",
    "train_path = 'C:/Users/Konstantin/Machine Learning/NIST Handwritten project/NIST/train'\n",
    "test_path = 'C:/Users/Konstantin/Machine Learning/NIST Handwritten project/NIST/test'\n",
    "cache_path= 'C:/Users/Konstantin/Machine Learning/NIST Handwritten project/cache_NIST'"
   ]
  },
  {
   "cell_type": "code",
   "execution_count": 5,
   "metadata": {
    "collapsed": false,
    "deletable": true,
    "editable": true
   },
   "outputs": [
    {
     "name": "stdout",
     "output_type": "stream",
     "text": [
      "Reading training images\n",
      "Loading 0 files (Index: 0)\n",
      "Loading 1 files (Index: 1)\n",
      "Loading 2 files (Index: 2)\n",
      "Loading 3 files (Index: 3)\n",
      "Loading 4 files (Index: 4)\n",
      "Loading 5 files (Index: 5)\n",
      "Loading 6 files (Index: 6)\n",
      "Loading 7 files (Index: 7)\n",
      "Loading 8 files (Index: 8)\n",
      "Loading 9 files (Index: 9)\n",
      "Loading A files (Index: 10)\n",
      "Loading A_LOW files (Index: 11)\n",
      "Loading B files (Index: 12)\n",
      "Loading B_LOW files (Index: 13)\n",
      "Loading C files (Index: 14)\n",
      "Loading C_LOW files (Index: 15)\n",
      "Loading D files (Index: 16)\n",
      "Loading D_LOW files (Index: 17)\n",
      "Loading E files (Index: 18)\n",
      "Loading E_LOW files (Index: 19)\n",
      "Loading F files (Index: 20)\n",
      "Loading F_LOW files (Index: 21)\n",
      "Loading G files (Index: 22)\n",
      "Loading G_LOW files (Index: 23)\n",
      "Loading H files (Index: 24)\n",
      "Loading H_LOW files (Index: 25)\n",
      "Loading I files (Index: 26)\n",
      "Loading I_LOW files (Index: 27)\n",
      "Loading J files (Index: 28)\n",
      "Loading J_LOW files (Index: 29)\n",
      "Loading K files (Index: 30)\n",
      "Loading K_LOW files (Index: 31)\n",
      "Loading L files (Index: 32)\n",
      "Loading L_LOW files (Index: 33)\n",
      "Loading M files (Index: 34)\n",
      "Loading M_LOW files (Index: 35)\n",
      "Loading N files (Index: 36)\n",
      "Loading N_LOW files (Index: 37)\n",
      "Loading O files (Index: 38)\n",
      "Loading O_LOW files (Index: 39)\n",
      "Loading P files (Index: 40)\n",
      "Loading P_LOW files (Index: 41)\n",
      "Loading Q files (Index: 42)\n",
      "Loading Q_LOW files (Index: 43)\n",
      "Loading R files (Index: 44)\n",
      "Loading R_LOW files (Index: 45)\n",
      "Loading S files (Index: 46)\n",
      "Loading S_LOW files (Index: 47)\n",
      "Loading T files (Index: 48)\n",
      "Loading T_LOW files (Index: 49)\n",
      "Loading U files (Index: 50)\n",
      "Loading U_LOW files (Index: 51)\n",
      "Loading V files (Index: 52)\n",
      "Loading V_LOW files (Index: 53)\n",
      "Loading W files (Index: 54)\n",
      "Loading W_LOW files (Index: 55)\n",
      "Loading X files (Index: 56)\n",
      "Loading X_LOW files (Index: 57)\n",
      "Loading Y files (Index: 58)\n",
      "Loading Y_LOW files (Index: 59)\n",
      "Loading Z files (Index: 60)\n",
      "Loading Z_LOW files (Index: 61)\n",
      "Reading test images\n",
      "Loading 0 files (Index: 0)\n",
      "Loading 1 files (Index: 1)\n",
      "Loading 2 files (Index: 2)\n",
      "Loading 3 files (Index: 3)\n",
      "Loading 4 files (Index: 4)\n",
      "Loading 5 files (Index: 5)\n",
      "Loading 6 files (Index: 6)\n",
      "Loading 7 files (Index: 7)\n",
      "Loading 8 files (Index: 8)\n",
      "Loading 9 files (Index: 9)\n",
      "Loading A files (Index: 10)\n",
      "Loading A_LOW files (Index: 11)\n",
      "Loading B files (Index: 12)\n",
      "Loading B_LOW files (Index: 13)\n",
      "Loading C files (Index: 14)\n",
      "Loading C_LOW files (Index: 15)\n",
      "Loading D files (Index: 16)\n",
      "Loading D_LOW files (Index: 17)\n",
      "Loading E files (Index: 18)\n",
      "Loading E_LOW files (Index: 19)\n",
      "Loading F files (Index: 20)\n",
      "Loading F_LOW files (Index: 21)\n",
      "Loading G files (Index: 22)\n",
      "Loading G_LOW files (Index: 23)\n",
      "Loading H files (Index: 24)\n",
      "Loading H_LOW files (Index: 25)\n",
      "Loading I files (Index: 26)\n",
      "Loading I_LOW files (Index: 27)\n",
      "Loading J files (Index: 28)\n",
      "Loading J_LOW files (Index: 29)\n",
      "Loading K files (Index: 30)\n",
      "Loading K_LOW files (Index: 31)\n",
      "Loading L files (Index: 32)\n",
      "Loading L_LOW files (Index: 33)\n",
      "Loading M files (Index: 34)\n",
      "Loading M_LOW files (Index: 35)\n",
      "Loading N files (Index: 36)\n",
      "Loading N_LOW files (Index: 37)\n",
      "Loading O files (Index: 38)\n",
      "Loading O_LOW files (Index: 39)\n",
      "Loading P files (Index: 40)\n",
      "Loading P_LOW files (Index: 41)\n",
      "Loading Q files (Index: 42)\n",
      "Loading Q_LOW files (Index: 43)\n",
      "Loading R files (Index: 44)\n",
      "Loading R_LOW files (Index: 45)\n",
      "Loading S files (Index: 46)\n",
      "Loading S_LOW files (Index: 47)\n",
      "Loading T files (Index: 48)\n",
      "Loading T_LOW files (Index: 49)\n",
      "Loading U files (Index: 50)\n",
      "Loading U_LOW files (Index: 51)\n",
      "Loading V files (Index: 52)\n",
      "Loading V_LOW files (Index: 53)\n",
      "Loading W files (Index: 54)\n",
      "Loading W_LOW files (Index: 55)\n",
      "Loading X files (Index: 56)\n",
      "Loading X_LOW files (Index: 57)\n",
      "Loading Y files (Index: 58)\n",
      "Loading Y_LOW files (Index: 59)\n",
      "Loading Z files (Index: 60)\n",
      "Loading Z_LOW files (Index: 61)\n"
     ]
    }
   ],
   "source": [
    "#first time loading\n",
    "train_data = dataset.read_train_sets(train_path, img_size, classes, validation_size=validation_size)\n",
    "test_data = dataset.read_test_set(test_path, img_size,classes)"
   ]
  },
  {
   "cell_type": "code",
   "execution_count": 6,
   "metadata": {
    "collapsed": false,
    "deletable": true,
    "editable": true
   },
   "outputs": [
    {
     "name": "stdout",
     "output_type": "stream",
     "text": [
      "- Data loaded from cache-file: C:/Users/Konstantin/Machine Learning/NIST Handwritten project/cache_NIST\\images_train.pkl\n",
      "- Data loaded from cache-file: C:/Users/Konstantin/Machine Learning/NIST Handwritten project/cache_NIST\\cls_train.pkl\n",
      "- Data loaded from cache-file: C:/Users/Konstantin/Machine Learning/NIST Handwritten project/cache_NIST\\labels_train.pkl\n",
      "- Data loaded from cache-file: C:/Users/Konstantin/Machine Learning/NIST Handwritten project/cache_NIST\\ids_train.pkl\n",
      "- Data loaded from cache-file: C:/Users/Konstantin/Machine Learning/NIST Handwritten project/cache_NIST\\images_valid.pkl\n",
      "- Data loaded from cache-file: C:/Users/Konstantin/Machine Learning/NIST Handwritten project/cache_NIST\\cls_valid.pkl\n",
      "- Data loaded from cache-file: C:/Users/Konstantin/Machine Learning/NIST Handwritten project/cache_NIST\\labels_valid.pkl\n",
      "- Data loaded from cache-file: C:/Users/Konstantin/Machine Learning/NIST Handwritten project/cache_NIST\\ids_valid.pkl\n",
      "- Data loaded from cache-file: C:/Users/Konstantin/Machine Learning/NIST Handwritten project/cache_NIST\\images_test.pkl\n",
      "- Data loaded from cache-file: C:/Users/Konstantin/Machine Learning/NIST Handwritten project/cache_NIST\\cls_test.pkl\n",
      "- Data loaded from cache-file: C:/Users/Konstantin/Machine Learning/NIST Handwritten project/cache_NIST\\labels_test.pkl\n",
      "- Data loaded from cache-file: C:/Users/Konstantin/Machine Learning/NIST Handwritten project/cache_NIST\\ids_test.pkl\n"
     ]
    }
   ],
   "source": [
    "from cache import cache_nof\n",
    "#custom cache paths\n",
    "images_train_data_path = os.path.join(cache_path, 'images_train.pkl')\n",
    "cls_train_data_path=os.path.join(cache_path, 'cls_train.pkl')\n",
    "labels_train_data_path=os.path.join(cache_path, 'labels_train.pkl')\n",
    "ids_train_data_path=os.path.join(cache_path, 'ids_train.pkl')\n",
    "images_valid_data_path=os.path.join(cache_path, 'images_valid.pkl')\n",
    "cls_valid_data_path=os.path.join(cache_path, 'cls_valid.pkl')\n",
    "labels_valid_data_path=os.path.join(cache_path, 'labels_valid.pkl')\n",
    "ids_valid_data_path=os.path.join(cache_path, 'ids_valid.pkl')\n",
    "images_test_data_path=os.path.join(cache_path, 'images_test.pkl')\n",
    "cls_test_data_path=os.path.join(cache_path, 'cls_test.pkl')\n",
    "ids_test_data_path=os.path.join(cache_path, 'ids_test.pkl')\n",
    "labels_test_data_path=os.path.join(cache_path, 'labels_test.pkl')\n",
    "\n",
    "images_train=cache_nof(images_train_data_path,train_data.train.images)\n",
    "cls_train=cache_nof(cls_train_data_path,train_data.train.cls)\n",
    "labels_train=cache_nof(labels_train_data_path,train_data.train.labels)\n",
    "ids_train=cache_nof(ids_train_data_path,train_data.train.ids)\n",
    "images_valid=cache_nof(images_valid_data_path,train_data.valid.images)\n",
    "cls_valid=cache_nof(cls_valid_data_path,train_data.valid.cls)\n",
    "labels_valid=cache_nof(labels_valid_data_path,train_data.valid.labels)\n",
    "ids_valid=cache_nof(ids_valid_data_path,train_data.valid.ids)\n",
    "images_test=cache_nof(images_test_data_path,test_data.test.images)\n",
    "cls_test=cache_nof(cls_test_data_path,test_data.test.cls)\n",
    "labels_test=cache_nof(labels_test_data_path,test_data.test.labels)\n",
    "ids_test=cache_nof(ids_test_data_path,test_data.test.ids)"
   ]
  },
  {
   "cell_type": "code",
   "execution_count": 7,
   "metadata": {
    "collapsed": false,
    "deletable": true,
    "editable": true
   },
   "outputs": [
    {
     "name": "stdout",
     "output_type": "stream",
     "text": [
      "Size of:\n",
      "- Training-set:\t\t80000\n",
      "- Test-set:\t\t31000\n",
      "- Validation-set:\t20000\n"
     ]
    }
   ],
   "source": [
    "print(\"Size of:\")\n",
    "print(\"- Training-set:\\t\\t{}\".format(len(train_data.train.labels)))\n",
    "print(\"- Test-set:\\t\\t{}\".format(len(test_data.test.labels)))\n",
    "print(\"- Validation-set:\\t{}\".format(len(train_data.valid.labels)))\n",
    "def plot_images(images, cls_true, cls_pred=None):\n",
    "    \n",
    "    if len(images) == 0:\n",
    "        print(\"no images to show\")\n",
    "        return \n",
    "    else:\n",
    "        random_indices = random.sample(range(len(images)), min(len(images), 9))\n",
    "        \n",
    "        \n",
    "    images, cls_true  = zip(*[(images[i], cls_true[i]) for i in random_indices])\n",
    "    \n",
    "    fig, axes = plt.subplots(3, 3)\n",
    "    fig.subplots_adjust(hspace=0.3, wspace=0.3)\n",
    "\n",
    "    for i, ax in enumerate(axes.flat):\n",
    "\n",
    "        ax.imshow(images[i].reshape(img_size, img_size, num_channels))\n",
    "\n",
    "\n",
    "        if cls_pred is None:\n",
    "            xlabel = \"True: {0}\".format(cls_true[i])\n",
    "        else:\n",
    "            xlabel = \"True: {0}, Pred: {1}\".format(cls_true[i], cls_pred[i])\n",
    "\n",
    "        ax.set_xlabel(xlabel)\n",
    "        ax.set_xticks([])\n",
    "        ax.set_yticks([])\n",
    "    \n",
    "    plt.show()"
   ]
  },
  {
   "cell_type": "code",
   "execution_count": 8,
   "metadata": {
    "collapsed": false,
    "deletable": true,
    "editable": true
   },
   "outputs": [
    {
     "data": {
      "image/png": "[encoded data removed]",
      "text/plain": [
       "<matplotlib.figure.Figure at 0x1b42614f1d0>"
      ]
     },
     "metadata": {},
     "output_type": "display_data"
    },
    {
     "data": {
      "image/png": "[encoded data removed]",
      "text/plain": [
       "<matplotlib.figure.Figure at 0x1b42dc15b38>"
      ]
     },
     "metadata": {},
     "output_type": "display_data"
    },
    {
     "data": {
      "image/png": "[encoded data removed]",
      "text/plain": [
       "<matplotlib.figure.Figure at 0x1b46e6f9ef0>"
      ]
     },
     "metadata": {},
     "output_type": "display_data"
    }
   ],
   "source": [
    "plot_images(images=images_train, cls_true=cls_train)\n",
    "plot_images(images=images_valid, cls_true=cls_valid)\n",
    "plot_images(images=images_test, cls_true=cls_test)"
   ]
  },
  {
   "cell_type": "code",
   "execution_count": 9,
   "metadata": {
    "collapsed": true,
    "deletable": true,
    "editable": true
   },
   "outputs": [],
   "source": [
    "file_path_cache_train = os.path.join(cache_path, 'vgg16_train_full_pool5.pkl')\n",
    "file_path_cache_test = os.path.join(cache_path, 'vgg16_test_full_pool5.pkl')\n",
    "file_path_cache_valid = os.path.join(cache_path, 'vgg16_valid_full_pool5.pkl')"
   ]
  },
  {
   "cell_type": "code",
   "execution_count": 10,
   "metadata": {
    "collapsed": false,
    "deletable": true,
    "editable": true
   },
   "outputs": [
    {
     "name": "stdout",
     "output_type": "stream",
     "text": [
      "Processing VGG 16 transfer-values for training-images ...\n",
      "- Data loaded from cache-file: C:/Users/Konstantin/Machine Learning/NIST Handwritten project/cache_NIST\\vgg16_train_full_pool5.pkl\n"
     ]
    }
   ],
   "source": [
    "print(\"Processing VGG 16 transfer-values for training-images ...\")\n",
    "\n",
    "transfer_values_train = transfer_values_cache(cache_path=file_path_cache_train,\n",
    "                                              images=images_train,\n",
    "                                              model=model)"
   ]
  },
  {
   "cell_type": "code",
   "execution_count": 11,
   "metadata": {
    "collapsed": false,
    "deletable": true,
    "editable": true
   },
   "outputs": [
    {
     "name": "stdout",
     "output_type": "stream",
     "text": [
      "Processing VGG 16 transfer-values for test-images ...\n",
      "- Data loaded from cache-file: C:/Users/Konstantin/Machine Learning/NIST Handwritten project/cache_NIST\\vgg16_test_full_pool5.pkl\n"
     ]
    }
   ],
   "source": [
    "print(\"Processing VGG 16 transfer-values for test-images ...\")\n",
    "\n",
    "transfer_values_test = transfer_values_cache(cache_path=file_path_cache_test,\n",
    "                                             images=images_test,\n",
    "                                             model=model)"
   ]
  },
  {
   "cell_type": "code",
   "execution_count": 12,
   "metadata": {
    "collapsed": false,
    "deletable": true,
    "editable": true
   },
   "outputs": [
    {
     "name": "stdout",
     "output_type": "stream",
     "text": [
      "Processing VGG 16 transfer-values for validation-images ...\n",
      "- Data loaded from cache-file: C:/Users/Konstantin/Machine Learning/NIST Handwritten project/cache_NIST\\vgg16_valid_full_pool5.pkl\n"
     ]
    }
   ],
   "source": [
    "print(\"Processing VGG 16 transfer-values for validation-images ...\")\n",
    "\n",
    "transfer_values_valid = transfer_values_cache(cache_path=file_path_cache_valid,\n",
    "                                             images=images_valid,\n",
    "                                             model=model)"
   ]
  },
  {
   "cell_type": "code",
   "execution_count": 13,
   "metadata": {
    "collapsed": true,
    "deletable": true,
    "editable": true
   },
   "outputs": [],
   "source": [
    "transfer_values_train_r=transfer_values_train.reshape(len(train_data.train.labels),8192)\n",
    "transfer_values_test_r=transfer_values_test.reshape(len(test_data.test.labels),8192)\n",
    "transfer_values_valid_r=transfer_values_valid.reshape(len(train_data.valid.labels),8192)"
   ]
  },
  {
   "cell_type": "code",
   "execution_count": 14,
   "metadata": {
    "collapsed": true,
    "deletable": true,
    "editable": true
   },
   "outputs": [],
   "source": [
    "transfer_len=8192\n",
    "cls_test = np.array([label.argmax() for label in labels_test])\n",
    "cls_valid = np.array([label.argmax() for label in labels_valid])\n",
    "fc_size=2048"
   ]
  },
  {
   "cell_type": "code",
   "execution_count": 15,
   "metadata": {
    "collapsed": false,
    "deletable": true,
    "editable": true
   },
   "outputs": [],
   "source": [
    "def new_weights(shape):\n",
    "    return tf.Variable(tf.truncated_normal(shape, stddev=0.05))\n",
    "def new_biases(length):\n",
    "    return tf.Variable(tf.constant(0.05, shape=[length]))\n",
    "def new_fc_layer(input,          # The previous layer.\n",
    "                 num_inputs,     # Num. inputs from prev. layer.\n",
    "                 num_outputs,\n",
    "                 keep_prob,# Num. outputs.\n",
    "                 use_relu=True,\n",
    "                use_dropout=True,\n",
    "                ): # Use Rectified Linear Unit (ReLU)?\n",
    "\n",
    "    # Create new weights and biases.\n",
    "    weights = new_weights(shape=[num_inputs, num_outputs])\n",
    "    biases = new_biases(length=num_outputs)\n",
    "\n",
    "    # Calculate the layer as the matrix multiplication of\n",
    "    # the input and weights, and then add the bias-values.\n",
    "    layer = tf.matmul(input, weights) + biases\n",
    "\n",
    "    # Use ReLU?\n",
    "    if use_relu:\n",
    "        layer = tf.nn.relu(layer)\n",
    "    if use_dropout:\n",
    "        layer = tf.nn.dropout(layer,keep_prob)\n",
    "    return layer"
   ]
  },
  {
   "cell_type": "code",
   "execution_count": 44,
   "metadata": {
    "collapsed": true,
    "deletable": true,
    "editable": true
   },
   "outputs": [],
   "source": [
    "x = tf.placeholder(tf.float32, shape=[None, transfer_len], name='x')\n",
    "y_true = tf.placeholder(tf.float32, shape=[None, num_classes], name='y_true')\n",
    "y_true_cls = tf.argmax(y_true, dimension=1)\n",
    "keep_prob=0.7\n"
   ]
  },
  {
   "cell_type": "code",
   "execution_count": null,
   "metadata": {
    "collapsed": false,
    "deletable": true,
    "editable": true
   },
   "outputs": [],
   "source": []
  },
  {
   "cell_type": "code",
   "execution_count": 45,
   "metadata": {
    "collapsed": false,
    "deletable": true,
    "editable": true
   },
   "outputs": [],
   "source": [
    "layer_fc1 = new_fc_layer(input=x,\n",
    "                         num_inputs=transfer_len,\n",
    "                         num_outputs=fc_size,\n",
    "                         keep_prob=keep_prob,\n",
    "                         use_relu=True,\n",
    "                        use_dropout=False)"
   ]
  },
  {
   "cell_type": "code",
   "execution_count": 46,
   "metadata": {
    "collapsed": false,
    "deletable": true,
    "editable": true
   },
   "outputs": [],
   "source": [
    "layer_fc2 = new_fc_layer(input=layer_fc1,\n",
    "                         num_inputs=fc_size,\n",
    "                         num_outputs=fc_size,\n",
    "                         keep_prob=keep_prob,\n",
    "                         use_relu=True,\n",
    "                        use_dropout=False)"
   ]
  },
  {
   "cell_type": "code",
   "execution_count": 47,
   "metadata": {
    "collapsed": false,
    "deletable": true,
    "editable": true
   },
   "outputs": [],
   "source": [
    "layer_fc3 = new_fc_layer(input=layer_fc2,\n",
    "                         num_inputs=fc_size,\n",
    "                         num_outputs=num_classes,\n",
    "                         keep_prob=keep_prob,\n",
    "                         use_relu=False,use_dropout=False)"
   ]
  },
  {
   "cell_type": "code",
   "execution_count": 48,
   "metadata": {
    "collapsed": false,
    "deletable": true,
    "editable": true
   },
   "outputs": [
    {
     "data": {
      "text/plain": [
       "TensorShape([Dimension(None), Dimension(2048)])"
      ]
     },
     "execution_count": 48,
     "metadata": {},
     "output_type": "execute_result"
    }
   ],
   "source": [
    "layer_fc1.shape"
   ]
  },
  {
   "cell_type": "code",
   "execution_count": 49,
   "metadata": {
    "collapsed": false,
    "deletable": true,
    "editable": true
   },
   "outputs": [
    {
     "data": {
      "text/plain": [
       "TensorShape([Dimension(None), Dimension(2048)])"
      ]
     },
     "execution_count": 49,
     "metadata": {},
     "output_type": "execute_result"
    }
   ],
   "source": [
    "layer_fc2.shape"
   ]
  },
  {
   "cell_type": "code",
   "execution_count": 50,
   "metadata": {
    "collapsed": false,
    "deletable": true,
    "editable": true
   },
   "outputs": [
    {
     "data": {
      "text/plain": [
       "TensorShape([Dimension(None), Dimension(62)])"
      ]
     },
     "execution_count": 50,
     "metadata": {},
     "output_type": "execute_result"
    }
   ],
   "source": [
    "layer_fc3.shape"
   ]
  },
  {
   "cell_type": "code",
   "execution_count": 51,
   "metadata": {
    "collapsed": false,
    "deletable": true,
    "editable": true
   },
   "outputs": [],
   "source": [
    "y_pred = tf.nn.softmax(layer_fc3)\n",
    "y_pred_cls = tf.argmax(y_pred, dimension=1)\n",
    "cross_entropy = tf.nn.softmax_cross_entropy_with_logits(logits=layer_fc3,\n",
    "                                                        labels=y_true)\n",
    "cost = tf.reduce_mean(cross_entropy)\n",
    "global_step = tf.Variable(initial_value=0,\n",
    "                          name='global_step', trainable=False)\n",
    "\n",
    "optimizer = tf.train.AdamOptimizer(learning_rate=7e-4).minimize(cost, global_step)\n",
    "y_pred_cls = tf.argmax(y_pred, dimension=1)\n",
    "correct_prediction = tf.equal(y_pred_cls, y_true_cls)\n",
    "accuracy = tf.reduce_mean(tf.cast(correct_prediction, tf.float32))"
   ]
  },
  {
   "cell_type": "code",
   "execution_count": 52,
   "metadata": {
    "collapsed": true,
    "deletable": true,
    "editable": true
   },
   "outputs": [],
   "source": [
    "session = tf.Session()\n",
    "session.run(tf.global_variables_initializer())"
   ]
  },
  {
   "cell_type": "code",
   "execution_count": 53,
   "metadata": {
    "collapsed": true,
    "deletable": true,
    "editable": true
   },
   "outputs": [],
   "source": [
    "train_batch_size = 1000\n",
    "valid_batch_size = 1000"
   ]
  },
  {
   "cell_type": "code",
   "execution_count": 54,
   "metadata": {
    "collapsed": false,
    "deletable": true,
    "editable": true
   },
   "outputs": [],
   "source": [
    "saver = tf.train.Saver()"
   ]
  },
  {
   "cell_type": "code",
   "execution_count": 55,
   "metadata": {
    "collapsed": true,
    "deletable": true,
    "editable": true
   },
   "outputs": [],
   "source": [
    "save_dir = 'checkpoints/'\n",
    "if not os.path.exists(save_dir):\n",
    "    os.makedirs(save_dir)\n",
    "save_path = os.path.join(save_dir, 'best_training')\n",
    "# Best validation accuracy seen so far.\n",
    "best_training_accuracy = 0.0"
   ]
  },
  {
   "cell_type": "code",
   "execution_count": null,
   "metadata": {
    "collapsed": true,
    "deletable": true,
    "editable": true
   },
   "outputs": [],
   "source": []
  },
  {
   "cell_type": "code",
   "execution_count": null,
   "metadata": {
    "collapsed": true,
    "deletable": true,
    "editable": true
   },
   "outputs": [],
   "source": []
  },
  {
   "cell_type": "code",
   "execution_count": 56,
   "metadata": {
    "collapsed": true,
    "deletable": true,
    "editable": true
   },
   "outputs": [],
   "source": [
    "def random_batch():\n",
    "    # Number of images (transfer-values) in the training-set.\n",
    "    num_images = len(transfer_values_train_r)\n",
    "\n",
    "    # Create a random index.\n",
    "    idx = np.random.choice(num_images,\n",
    "                           size=train_batch_size,\n",
    "                           replace=False)\n",
    "\n",
    "    # Use the random index to select random x and y-values.\n",
    "    # We use the transfer-values instead of images as x-values.\n",
    "    x_batch = transfer_values_train_r[idx]\n",
    "    y_batch = labels_train[idx]\n",
    "\n",
    "    return x_batch, y_batch\n",
    "def random_batch_valid():\n",
    "    # Number of images (transfer-values) in the training-set.\n",
    "    num_images = len(transfer_values_valid_r)\n",
    "\n",
    "    # Create a random index.\n",
    "    idx = np.random.choice(num_images,\n",
    "                           size=valid_batch_size,\n",
    "                           replace=False)\n",
    "\n",
    "    # Use the random index to select random x and y-values.\n",
    "    # We use the transfer-values instead of images as x-values.\n",
    "    x_batch = transfer_values_valid_r[idx]\n",
    "    y_batch = labels_valid[idx]\n",
    "\n",
    "    return x_batch, y_batch"
   ]
  },
  {
   "cell_type": "code",
   "execution_count": 2,
   "metadata": {
    "collapsed": true,
    "deletable": true,
    "editable": true
   },
   "outputs": [],
   "source": [
    "def optimize(num_iterations):\n",
    "    # Start-time used for printing time-usage below.\n",
    "    start_time = time.time()\n",
    "    global best_training_accuracy\n",
    "    for i in range(num_iterations):\n",
    "        # Get a batch of training examples.\n",
    "        # x_batch now holds a batch of images (transfer-values) and\n",
    "        # y_true_batch are the true labels for those images.\n",
    "        x_batch, y_true_batch = random_batch()\n",
    "        x_batch_valid,y_true_batch_valid=random_batch_valid()\n",
    "        # Put the batch into a dict with the proper names\n",
    "        # for placeholder variables in the TensorFlow graph.\n",
    "        feed_dict_train = {x: x_batch,\n",
    "                           y_true: y_true_batch}\n",
    "        feed_dict_valid = {x: x_batch_valid,\n",
    "                           y_true: y_true_batch_valid}\n",
    "        # Run the optimizer using this batch of training data.\n",
    "        # TensorFlow assigns the variables in feed_dict_train\n",
    "        # to the placeholder variables and then runs the optimizer.\n",
    "        # We also want to retrieve the global_step counter.\n",
    "        i_global, _ = session.run([global_step, optimizer],\n",
    "                                  feed_dict=feed_dict_train)\n",
    "        i_global, _ = session.run([global_step, optimizer],\n",
    "                                  feed_dict=feed_dict_valid)\n",
    "        # Print status to screen every 100 iterations (and last).\n",
    "        if (i_global % 100 == 0) or (i == num_iterations - 1):\n",
    "            # Calculate the accuracy on the training-batch.\n",
    "            batch_acc = session.run(accuracy,\n",
    "                                    feed_dict=feed_dict_train)\n",
    "            batch_acc_val = session.run(accuracy,\n",
    "                                    feed_dict=feed_dict_valid)\n",
    "            if batch_acc >= best_training_accuracy:\n",
    "                \n",
    "                best_training_accuracy = batch_acc\n",
    "\n",
    "                \n",
    "                saver.save(sess=session, save_path=save_path)\n",
    "\n",
    "                \n",
    "                improved_str = '*'\n",
    "            else:\n",
    "                \n",
    "                improved_str = ''\n",
    "            # Print status.\n",
    "            msg = \"Global Step: {0:>6}, Training Batch Accuracy: {1:>6.1%} {2}\"\n",
    "            print(msg.format(i_global, batch_acc,improved_str))\n",
    "            msg = \"Validation Batch Accuracy: {1:>6.1%}\"\n",
    "            print(msg.format(i_global, batch_acc_val))\n",
    "            print_accuracy_test()\n",
    "\n",
    "    # Ending time.\n",
    "    end_time = time.time()\n",
    "\n",
    "    # Difference between start and end-times.\n",
    "    time_dif = end_time - start_time\n",
    "\n",
    "    # Print the time-usage.\n",
    "    print(\"Time usage: \" + str(timedelta(seconds=int(round(time_dif)))))"
   ]
  },
  {
   "cell_type": "code",
   "execution_count": 80,
   "metadata": {
    "collapsed": true,
    "deletable": true,
    "editable": true
   },
   "outputs": [],
   "source": [
    "def plot_example_errors(cls_pred, correct):\n",
    "    # This function is called from print_test_accuracy() below.\n",
    "\n",
    "    # cls_pred is an array of the predicted class-number for\n",
    "    # all images in the test-set.\n",
    "\n",
    "    # correct is a boolean array whether the predicted class\n",
    "    # is equal to the true class for each image in the test-set.\n",
    "\n",
    "    # Negate the boolean array.\n",
    "    incorrect = (correct == False)\n",
    "    \n",
    "    # Get the images from the test-set that have been\n",
    "    # incorrectly classified.\n",
    "    images = images_test[incorrect]\n",
    "    \n",
    "    # Get the predicted classes for those images.\n",
    "    cls_pred = cls_pred[incorrect]\n",
    "\n",
    "    # Get the true classes for those images.\n",
    "    cls_true = cls_test[incorrect]\n",
    "\n",
    "    n = min(9, len(images))\n",
    "    \n",
    "    # Plot the first n images.\n",
    "    plot_images(images=images[0:n],\n",
    "                cls_true=cls_true[0:n],\n",
    "                cls_pred=cls_pred[0:n])"
   ]
  },
  {
   "cell_type": "code",
   "execution_count": 81,
   "metadata": {
    "collapsed": true,
    "deletable": true,
    "editable": true
   },
   "outputs": [],
   "source": [
    "# Import a function from sklearn to calculate the confusion-matrix.\n",
    "from sklearn.metrics import confusion_matrix\n",
    "\n",
    "def plot_confusion_matrix(cls_pred):\n",
    "    # This is called from print_test_accuracy() below.\n",
    "\n",
    "    # cls_pred is an array of the predicted class-number for\n",
    "    # all images in the test-set.\n",
    "\n",
    "    # Get the confusion matrix using sklearn.\n",
    "    cm = confusion_matrix(y_true=cls_test,  # True class for test-set.\n",
    "                          y_pred=cls_pred)  # Predicted class.\n",
    "\n",
    "    # Print the confusion matrix as text.\n",
    "    for i in range(num_classes):\n",
    "        # Append the class-name to each line.\n",
    "        class_name = \"({}) {}\".format(i, classes[i])\n",
    "        print(cm[i, :], class_name)\n",
    "\n",
    "    # Print the class-numbers for easy reference.\n",
    "    class_numbers = [\" ({0})\".format(i) for i in range(num_classes)]\n",
    "    print(\"\".join(class_numbers))"
   ]
  },
  {
   "cell_type": "code",
   "execution_count": 82,
   "metadata": {
    "collapsed": true,
    "deletable": true,
    "editable": true
   },
   "outputs": [],
   "source": [
    "feed_dict_test = {x: transfer_values_test_r,\n",
    "                  y_true: labels_test}\n",
    "feed_dict_train = {x: transfer_values_train_r,\n",
    "                  y_true: labels_train}\n",
    "feed_dict_valid = {x: transfer_values_valid_r,\n",
    "                  y_true: labels_valid}"
   ]
  },
  {
   "cell_type": "code",
   "execution_count": 83,
   "metadata": {
    "collapsed": true,
    "deletable": true,
    "editable": true
   },
   "outputs": [],
   "source": [
    "def print_accuracy_test():\n",
    "    acc = session.run(accuracy, feed_dict=feed_dict_test)\n",
    "    print(\"Accuracy on test-set: {0:.1%}\".format(acc))\n",
    "def print_accuracy_valid():\n",
    "    acc_valid=session.run(accuracy, feed_dict=feed_dict_valid)\n",
    "    print(\"Accuracy on validation-set: {0:.1%}\".format(acc_valid))"
   ]
  },
  {
   "cell_type": "code",
   "execution_count": 84,
   "metadata": {
    "collapsed": false,
    "deletable": true,
    "editable": true
   },
   "outputs": [
    {
     "name": "stdout",
     "output_type": "stream",
     "text": [
      "Accuracy on test-set: 1.6%\n"
     ]
    }
   ],
   "source": [
    "print_accuracy_test()"
   ]
  },
  {
   "cell_type": "code",
   "execution_count": 85,
   "metadata": {
    "collapsed": false
   },
   "outputs": [
    {
     "data": {
      "text/plain": [
       "(80000, 4, 4, 512)"
      ]
     },
     "execution_count": 85,
     "metadata": {},
     "output_type": "execute_result"
    }
   ],
   "source": []
  },
  {
   "cell_type": "code",
   "execution_count": 86,
   "metadata": {
    "collapsed": false,
    "deletable": true,
    "editable": true
   },
   "outputs": [
    {
     "name": "stdout",
     "output_type": "stream",
     "text": [
      "Global Step:      2, Training Batch Accuracy:   8.9% *\n",
      "Validation Batch Accuracy:   8.1%\n",
      "Accuracy on test-set: 6.6%\n",
      "Time usage: 0:00:05\n"
     ]
    }
   ],
   "source": [
    "optimize(num_iterations=1)"
   ]
  },
  {
   "cell_type": "code",
   "execution_count": 1,
   "metadata": {
    "collapsed": false,
    "deletable": true,
    "editable": true
   },
   "outputs": [
    {
     "ename": "NameError",
     "evalue": "name 'optimize' is not defined",
     "output_type": "error",
     "traceback": [
      "\u001b[1;31m---------------------------------------------------------------------------\u001b[0m",
      "\u001b[1;31mNameError\u001b[0m                                 Traceback (most recent call last)",
      "\u001b[1;32m<ipython-input-1-ae378433d550>\u001b[0m in \u001b[0;36m<module>\u001b[1;34m()\u001b[0m\n\u001b[1;32m----> 1\u001b[1;33m \u001b[0moptimize\u001b[0m\u001b[1;33m(\u001b[0m\u001b[0mnum_iterations\u001b[0m\u001b[1;33m=\u001b[0m\u001b[1;36m1000\u001b[0m\u001b[1;33m)\u001b[0m\u001b[1;33m\u001b[0m\u001b[0m\n\u001b[0m",
      "\u001b[1;31mNameError\u001b[0m: name 'optimize' is not defined"
     ]
    }
   ],
   "source": [
    "optimize(num_iterations=1000)"
   ]
  },
  {
   "cell_type": "code",
   "execution_count": 37,
   "metadata": {
    "collapsed": false,
    "deletable": true,
    "editable": true
   },
   "outputs": [
    {
     "name": "stdout",
     "output_type": "stream",
     "text": [
      "Global Step:   1100, Training Batch Accuracy:  98.2% *\n",
      "Validation Batch Accuracy:  76.2%\n",
      "Accuracy on test-set: 91.2%\n",
      "Global Step:   1200, Training Batch Accuracy:  96.9% \n",
      "Validation Batch Accuracy:  76.0%\n",
      "Accuracy on test-set: 90.7%\n",
      "Global Step:   1300, Training Batch Accuracy:  98.3% *\n",
      "Validation Batch Accuracy:  76.7%\n",
      "Accuracy on test-set: 91.7%\n",
      "Global Step:   1400, Training Batch Accuracy:  97.7% \n",
      "Validation Batch Accuracy:  77.1%\n",
      "Accuracy on test-set: 91.9%\n",
      "Global Step:   1500, Training Batch Accuracy:  97.9% \n",
      "Validation Batch Accuracy:  76.6%\n",
      "Accuracy on test-set: 91.2%\n",
      "Global Step:   1600, Training Batch Accuracy:  98.0% \n",
      "Validation Batch Accuracy:  77.2%\n",
      "Accuracy on test-set: 91.7%\n",
      "Global Step:   1700, Training Batch Accuracy:  98.6% *\n",
      "Validation Batch Accuracy:  77.4%\n",
      "Accuracy on test-set: 92.1%\n",
      "Global Step:   1800, Training Batch Accuracy:  97.7% \n",
      "Validation Batch Accuracy:  77.5%\n",
      "Accuracy on test-set: 91.6%\n",
      "Global Step:   1900, Training Batch Accuracy:  97.7% \n",
      "Validation Batch Accuracy:  77.6%\n",
      "Accuracy on test-set: 92.1%\n",
      "Global Step:   2000, Training Batch Accuracy:  98.0% \n",
      "Validation Batch Accuracy:  77.6%\n",
      "Accuracy on test-set: 91.4%\n",
      "Global Step:   2001, Training Batch Accuracy:  98.2% \n",
      "Validation Batch Accuracy:  77.6%\n",
      "Accuracy on test-set: 91.5%\n",
      "Time usage: 0:03:52\n"
     ]
    }
   ],
   "source": [
    "optimize(num_iterations=1000)"
   ]
  },
  {
   "cell_type": "code",
   "execution_count": 38,
   "metadata": {
    "collapsed": false,
    "deletable": true,
    "editable": true
   },
   "outputs": [
    {
     "name": "stdout",
     "output_type": "stream",
     "text": [
      "Global Step:   2100, Training Batch Accuracy:  98.4% \n",
      "Validation Batch Accuracy:  77.5%\n",
      "Accuracy on test-set: 91.9%\n",
      "Global Step:   2200, Training Batch Accuracy:  98.0% \n",
      "Validation Batch Accuracy:  77.4%\n",
      "Accuracy on test-set: 91.2%\n",
      "Global Step:   2300, Training Batch Accuracy:  98.8% *\n",
      "Validation Batch Accuracy:  77.9%\n",
      "Accuracy on test-set: 91.6%\n",
      "Global Step:   2400, Training Batch Accuracy:  97.8% \n",
      "Validation Batch Accuracy:  77.6%\n",
      "Accuracy on test-set: 91.2%\n",
      "Global Step:   2500, Training Batch Accuracy:  97.9% \n",
      "Validation Batch Accuracy:  78.0%\n",
      "Accuracy on test-set: 92.2%\n",
      "Global Step:   2600, Training Batch Accuracy:  97.7% \n",
      "Validation Batch Accuracy:  78.1%\n",
      "Accuracy on test-set: 91.6%\n",
      "Global Step:   2700, Training Batch Accuracy:  98.3% \n",
      "Validation Batch Accuracy:  78.2%\n",
      "Accuracy on test-set: 92.0%\n",
      "Global Step:   2800, Training Batch Accuracy:  98.3% \n",
      "Validation Batch Accuracy:  78.3%\n",
      "Accuracy on test-set: 92.0%\n",
      "Global Step:   2900, Training Batch Accuracy:  98.9% *\n",
      "Validation Batch Accuracy:  78.9%\n",
      "Accuracy on test-set: 92.2%\n",
      "Global Step:   3000, Training Batch Accuracy:  98.8% \n",
      "Validation Batch Accuracy:  78.9%\n",
      "Accuracy on test-set: 92.5%\n",
      "Global Step:   3100, Training Batch Accuracy:  98.2% \n",
      "Validation Batch Accuracy:  78.4%\n",
      "Accuracy on test-set: 92.0%\n",
      "Global Step:   3200, Training Batch Accuracy:  98.7% \n",
      "Validation Batch Accuracy:  79.3%\n",
      "Accuracy on test-set: 92.8%\n",
      "Global Step:   3300, Training Batch Accuracy:  98.3% \n",
      "Validation Batch Accuracy:  78.7%\n",
      "Accuracy on test-set: 92.3%\n",
      "Global Step:   3400, Training Batch Accuracy:  98.8% \n",
      "Validation Batch Accuracy:  78.6%\n",
      "Accuracy on test-set: 92.3%\n",
      "Global Step:   3500, Training Batch Accuracy:  97.9% \n",
      "Validation Batch Accuracy:  79.2%\n",
      "Accuracy on test-set: 92.2%\n"
     ]
    },
    {
     "ename": "KeyboardInterrupt",
     "evalue": "",
     "output_type": "error",
     "traceback": [
      "\u001b[1;31m---------------------------------------------------------------------------\u001b[0m",
      "\u001b[1;31mKeyboardInterrupt\u001b[0m                         Traceback (most recent call last)",
      "\u001b[1;32m<ipython-input-38-921b95d7cc6c>\u001b[0m in \u001b[0;36m<module>\u001b[1;34m()\u001b[0m\n\u001b[1;32m----> 1\u001b[1;33m \u001b[0moptimize\u001b[0m\u001b[1;33m(\u001b[0m\u001b[0mnum_iterations\u001b[0m\u001b[1;33m=\u001b[0m\u001b[1;36m10000\u001b[0m\u001b[1;33m)\u001b[0m\u001b[1;33m\u001b[0m\u001b[0m\n\u001b[0m",
      "\u001b[1;32m<ipython-input-29-7a64a79272ca>\u001b[0m in \u001b[0;36moptimize\u001b[1;34m(num_iterations)\u001b[0m\n\u001b[0;32m      8\u001b[0m         \u001b[1;31m# y_true_batch are the true labels for those images.\u001b[0m\u001b[1;33m\u001b[0m\u001b[1;33m\u001b[0m\u001b[0m\n\u001b[0;32m      9\u001b[0m         \u001b[0mx_batch\u001b[0m\u001b[1;33m,\u001b[0m \u001b[0my_true_batch\u001b[0m \u001b[1;33m=\u001b[0m \u001b[0mrandom_batch\u001b[0m\u001b[1;33m(\u001b[0m\u001b[1;33m)\u001b[0m\u001b[1;33m\u001b[0m\u001b[0m\n\u001b[1;32m---> 10\u001b[1;33m         \u001b[0mx_batch_valid\u001b[0m\u001b[1;33m,\u001b[0m\u001b[0my_true_batch_valid\u001b[0m\u001b[1;33m=\u001b[0m\u001b[0mrandom_batch_valid\u001b[0m\u001b[1;33m(\u001b[0m\u001b[1;33m)\u001b[0m\u001b[1;33m\u001b[0m\u001b[0m\n\u001b[0m\u001b[0;32m     11\u001b[0m         \u001b[1;31m# Put the batch into a dict with the proper names\u001b[0m\u001b[1;33m\u001b[0m\u001b[1;33m\u001b[0m\u001b[0m\n\u001b[0;32m     12\u001b[0m         \u001b[1;31m# for placeholder variables in the TensorFlow graph.\u001b[0m\u001b[1;33m\u001b[0m\u001b[1;33m\u001b[0m\u001b[0m\n",
      "\u001b[1;32m<ipython-input-28-60b5795a6137>\u001b[0m in \u001b[0;36mrandom_batch_valid\u001b[1;34m()\u001b[0m\n\u001b[0;32m     25\u001b[0m     \u001b[1;31m# Use the random index to select random x and y-values.\u001b[0m\u001b[1;33m\u001b[0m\u001b[1;33m\u001b[0m\u001b[0m\n\u001b[0;32m     26\u001b[0m     \u001b[1;31m# We use the transfer-values instead of images as x-values.\u001b[0m\u001b[1;33m\u001b[0m\u001b[1;33m\u001b[0m\u001b[0m\n\u001b[1;32m---> 27\u001b[1;33m     \u001b[0mx_batch\u001b[0m \u001b[1;33m=\u001b[0m \u001b[0mtransfer_values_valid_r\u001b[0m\u001b[1;33m[\u001b[0m\u001b[0midx\u001b[0m\u001b[1;33m]\u001b[0m\u001b[1;33m\u001b[0m\u001b[0m\n\u001b[0m\u001b[0;32m     28\u001b[0m     \u001b[0my_batch\u001b[0m \u001b[1;33m=\u001b[0m \u001b[0mlabels_valid\u001b[0m\u001b[1;33m[\u001b[0m\u001b[0midx\u001b[0m\u001b[1;33m]\u001b[0m\u001b[1;33m\u001b[0m\u001b[0m\n\u001b[0;32m     29\u001b[0m \u001b[1;33m\u001b[0m\u001b[0m\n",
      "\u001b[1;31mKeyboardInterrupt\u001b[0m: "
     ]
    }
   ],
   "source": [
    "optimize(num_iterations=10000)"
   ]
  },
  {
   "cell_type": "code",
   "execution_count": 39,
   "metadata": {
    "collapsed": false,
    "deletable": true,
    "editable": true
   },
   "outputs": [
    {
     "name": "stdout",
     "output_type": "stream",
     "text": [
      "Accuracy on validation-set: 78.5%\n"
     ]
    }
   ],
   "source": [
    "print_accuracy_valid()"
   ]
  },
  {
   "cell_type": "code",
   "execution_count": null,
   "metadata": {
    "collapsed": false,
    "deletable": true,
    "editable": true
   },
   "outputs": [],
   "source": [
    "optimize(num_iterations=1000)"
   ]
  },
  {
   "cell_type": "code",
   "execution_count": null,
   "metadata": {
    "collapsed": true,
    "deletable": true,
    "editable": true
   },
   "outputs": [],
   "source": [
    "cls_pred=session.run(y_pred_cls,feed_dict=feed_dict_test)"
   ]
  },
  {
   "cell_type": "code",
   "execution_count": null,
   "metadata": {
    "collapsed": false,
    "deletable": true,
    "editable": true
   },
   "outputs": [],
   "source": [
    "plot_confusion_matrix(cls_pred)"
   ]
  },
  {
   "cell_type": "markdown",
   "metadata": {
    "collapsed": true,
    "deletable": true,
    "editable": true
   },
   "source": [
    "# Restore"
   ]
  },
  {
   "cell_type": "code",
   "execution_count": 34,
   "metadata": {
    "collapsed": false,
    "deletable": true,
    "editable": true
   },
   "outputs": [
    {
     "name": "stdout",
     "output_type": "stream",
     "text": [
      "INFO:tensorflow:Restoring parameters from checkpoints/best_training\n"
     ]
    }
   ],
   "source": [
    "saver.restore(sess=session, save_path=save_path)"
   ]
  },
  {
   "cell_type": "code",
   "execution_count": 44,
   "metadata": {
    "collapsed": false,
    "deletable": true,
    "editable": true
   },
   "outputs": [
    {
     "name": "stdout",
     "output_type": "stream",
     "text": [
      "Global Step:   1004, Training Batch Accuracy:  93.1% *\n",
      "Validation Batch Accuracy:  78.7%\n",
      "Accuracy on test-set: 88.4%\n",
      "Time usage: 0:00:05\n"
     ]
    }
   ],
   "source": [
    "optimize(num_iterations=1)"
   ]
  },
  {
   "cell_type": "code",
   "execution_count": null,
   "metadata": {
    "collapsed": false,
    "deletable": true,
    "editable": true
   },
   "outputs": [],
   "source": []
  },
  {
   "cell_type": "code",
   "execution_count": null,
   "metadata": {
    "collapsed": true,
    "deletable": true,
    "editable": true
   },
   "outputs": [],
   "source": []
  },
  {
   "cell_type": "code",
   "execution_count": null,
   "metadata": {
    "collapsed": false,
    "deletable": true,
    "editable": true
   },
   "outputs": [],
   "source": []
  },
  {
   "cell_type": "code",
   "execution_count": null,
   "metadata": {
    "collapsed": false,
    "deletable": true,
    "editable": true
   },
   "outputs": [],
   "source": []
  },
  {
   "cell_type": "code",
   "execution_count": null,
   "metadata": {
    "collapsed": false,
    "deletable": true,
    "editable": true
   },
   "outputs": [],
   "source": []
  },
  {
   "cell_type": "code",
   "execution_count": null,
   "metadata": {
    "collapsed": true,
    "deletable": true,
    "editable": true
   },
   "outputs": [],
   "source": []
  },
  {
   "cell_type": "code",
   "execution_count": null,
   "metadata": {
    "collapsed": true,
    "deletable": true,
    "editable": true
   },
   "outputs": [],
   "source": []
  },
  {
   "cell_type": "code",
   "execution_count": null,
   "metadata": {
    "collapsed": true,
    "deletable": true,
    "editable": true
   },
   "outputs": [],
   "source": []
  },
  {
   "cell_type": "code",
   "execution_count": null,
   "metadata": {
    "collapsed": false,
    "deletable": true,
    "editable": true
   },
   "outputs": [],
   "source": []
  },
  {
   "cell_type": "code",
   "execution_count": null,
   "metadata": {
    "collapsed": false,
    "deletable": true,
    "editable": true
   },
   "outputs": [],
   "source": []
  },
  {
   "cell_type": "code",
   "execution_count": null,
   "metadata": {
    "collapsed": false,
    "deletable": true,
    "editable": true
   },
   "outputs": [],
   "source": []
  },
  {
   "cell_type": "code",
   "execution_count": null,
   "metadata": {
    "collapsed": true,
    "deletable": true,
    "editable": true
   },
   "outputs": [],
   "source": []
  },
  {
   "cell_type": "code",
   "execution_count": null,
   "metadata": {
    "collapsed": true,
    "deletable": true,
    "editable": true
   },
   "outputs": [],
   "source": []
  },
  {
   "cell_type": "code",
   "execution_count": null,
   "metadata": {
    "collapsed": true,
    "deletable": true,
    "editable": true
   },
   "outputs": [],
   "source": []
  },
  {
   "cell_type": "code",
   "execution_count": null,
   "metadata": {
    "collapsed": false,
    "deletable": true,
    "editable": true
   },
   "outputs": [],
   "source": []
  },
  {
   "cell_type": "code",
   "execution_count": null,
   "metadata": {
    "collapsed": true,
    "deletable": true,
    "editable": true
   },
   "outputs": [],
   "source": []
  }
 ],
 "metadata": {
  "kernelspec": {
   "display_name": "Python 3",
   "language": "python",
   "name": "python3"
  },
  "language_info": {
   "codemirror_mode": {
    "name": "ipython",
    "version": 3
   },
   "file_extension": ".py",
   "mimetype": "text/x-python",
   "name": "python",
   "nbconvert_exporter": "python",
   "pygments_lexer": "ipython3",
   "version": "3.5.3"
  }
 },
 "nbformat": 4,
 "nbformat_minor": 2
}
