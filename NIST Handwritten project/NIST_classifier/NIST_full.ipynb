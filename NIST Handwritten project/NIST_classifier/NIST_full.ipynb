{
 "cells": [
  {
   "cell_type": "code",
   "execution_count": 1,
   "metadata": {
    "collapsed": true,
    "deletable": true,
    "editable": true
   },
   "outputs": [],
   "source": [
    "%matplotlib inline\n",
    "import matplotlib.pyplot as plt\n",
    "import tensorflow as tf\n",
    "import numpy as np\n",
    "import PIL.Image\n",
    "import pandas as pd\n",
    "import time\n",
    "from datetime import timedelta\n",
    "import math\n",
    "import dataset\n",
    "import random\n",
    "import os\n",
    "import cache"
   ]
  },
  {
   "cell_type": "code",
   "execution_count": 2,
   "metadata": {
    "collapsed": true,
    "deletable": true,
    "editable": true
   },
   "outputs": [],
   "source": [
    "import vgg16\n",
    "from vgg16 import transfer_values_cache\n",
    "from vgg16 import transfer_values_calc"
   ]
  },
  {
   "cell_type": "code",
   "execution_count": 3,
   "metadata": {
    "collapsed": false,
    "deletable": true,
    "editable": true
   },
   "outputs": [
    {
     "name": "stdout",
     "output_type": "stream",
     "text": [
      "Downloading VGG16 Model ...\n",
      "Data has apparently already been downloaded and unpacked.\n"
     ]
    }
   ],
   "source": [
    "vgg16.maybe_download()\n",
    "model=vgg16.VGG16()"
   ]
  },
  {
   "cell_type": "code",
   "execution_count": 55,
   "metadata": {
    "collapsed": true,
    "deletable": true,
    "editable": true
   },
   "outputs": [],
   "source": [
    "classes=['0','1','2','3','4','5','6','7','8','9','A','A_LOW','B','B_LOW','C','C_LOW','D','D_LOW','E','E_LOW','F','F_LOW','G',\n",
    "         'G_LOW','H','H_LOW','I','I_LOW','J','J_LOW','K','K_LOW','L','L_LOW','M','M_LOW','N','N_LOW','O','O_LOW','P','P_LOW','Q',\n",
    "         'Q_LOW','R','R_LOW','S','S_LOW','T','T_LOW','U','U_LOW','V','V_LOW','W','W_LOW','X','X_LOW','Y','Y_LOW','Z','Z_LOW']\n",
    "class_numbers=list(range(62))\n",
    "num_classes=len(classes)\n",
    "num_channels=3\n",
    "validation_size = .2\n",
    "img_size = 128\n",
    "img_size_flat=img_size*img_size*num_channels\n",
    "#custom paths\n",
    "train_path = 'C:/Users/Konstantin/Machine Learning/NIST Handwritten project/NIST/train'\n",
    "test_path = 'C:/Users/Konstantin/Machine Learning/NIST Handwritten project/NIST/test'\n",
    "cache_path= 'C:/Users/Konstantin/Machine Learning/NIST Handwritten project/cache_NIST'"
   ]
  },
  {
   "cell_type": "code",
   "execution_count": 5,
   "metadata": {
    "collapsed": false,
    "deletable": true,
    "editable": true,
    "scrolled": true
   },
   "outputs": [
    {
     "name": "stdout",
     "output_type": "stream",
     "text": [
      "Reading training images\n",
      "Loading 0 files (Index: 0)\n",
      "Loading 1 files (Index: 1)\n",
      "Loading 2 files (Index: 2)\n",
      "Loading 3 files (Index: 3)\n",
      "Loading 4 files (Index: 4)\n",
      "Loading 5 files (Index: 5)\n",
      "Loading 6 files (Index: 6)\n",
      "Loading 7 files (Index: 7)\n",
      "Loading 8 files (Index: 8)\n",
      "Loading 9 files (Index: 9)\n",
      "Loading A files (Index: 10)\n",
      "Loading A_LOW files (Index: 11)\n",
      "Loading B files (Index: 12)\n",
      "Loading B_LOW files (Index: 13)\n",
      "Loading C files (Index: 14)\n",
      "Loading C_LOW files (Index: 15)\n",
      "Loading D files (Index: 16)\n",
      "Loading D_LOW files (Index: 17)\n",
      "Loading E files (Index: 18)\n",
      "Loading E_LOW files (Index: 19)\n",
      "Loading F files (Index: 20)\n",
      "Loading F_LOW files (Index: 21)\n",
      "Loading G files (Index: 22)\n",
      "Loading G_LOW files (Index: 23)\n",
      "Loading H files (Index: 24)\n",
      "Loading H_LOW files (Index: 25)\n",
      "Loading I files (Index: 26)\n",
      "Loading I_LOW files (Index: 27)\n",
      "Loading J files (Index: 28)\n",
      "Loading J_LOW files (Index: 29)\n",
      "Loading K files (Index: 30)\n",
      "Loading K_LOW files (Index: 31)\n",
      "Loading L files (Index: 32)\n",
      "Loading L_LOW files (Index: 33)\n",
      "Loading M files (Index: 34)\n",
      "Loading M_LOW files (Index: 35)\n",
      "Loading N files (Index: 36)\n",
      "Loading N_LOW files (Index: 37)\n",
      "Loading O files (Index: 38)\n",
      "Loading O_LOW files (Index: 39)\n",
      "Loading P files (Index: 40)\n",
      "Loading P_LOW files (Index: 41)\n",
      "Loading Q files (Index: 42)\n",
      "Loading Q_LOW files (Index: 43)\n",
      "Loading R files (Index: 44)\n",
      "Loading R_LOW files (Index: 45)\n",
      "Loading S files (Index: 46)\n",
      "Loading S_LOW files (Index: 47)\n",
      "Loading T files (Index: 48)\n",
      "Loading T_LOW files (Index: 49)\n",
      "Loading U files (Index: 50)\n",
      "Loading U_LOW files (Index: 51)\n",
      "Loading V files (Index: 52)\n",
      "Loading V_LOW files (Index: 53)\n",
      "Loading W files (Index: 54)\n",
      "Loading W_LOW files (Index: 55)\n",
      "Loading X files (Index: 56)\n",
      "Loading X_LOW files (Index: 57)\n",
      "Loading Y files (Index: 58)\n",
      "Loading Y_LOW files (Index: 59)\n",
      "Loading Z files (Index: 60)\n",
      "Loading Z_LOW files (Index: 61)\n",
      "Reading test images\n",
      "Loading 0 files (Index: 0)\n",
      "Loading 1 files (Index: 1)\n",
      "Loading 2 files (Index: 2)\n",
      "Loading 3 files (Index: 3)\n",
      "Loading 4 files (Index: 4)\n",
      "Loading 5 files (Index: 5)\n",
      "Loading 6 files (Index: 6)\n",
      "Loading 7 files (Index: 7)\n",
      "Loading 8 files (Index: 8)\n",
      "Loading 9 files (Index: 9)\n",
      "Loading A files (Index: 10)\n",
      "Loading A_LOW files (Index: 11)\n",
      "Loading B files (Index: 12)\n",
      "Loading B_LOW files (Index: 13)\n",
      "Loading C files (Index: 14)\n",
      "Loading C_LOW files (Index: 15)\n",
      "Loading D files (Index: 16)\n",
      "Loading D_LOW files (Index: 17)\n",
      "Loading E files (Index: 18)\n",
      "Loading E_LOW files (Index: 19)\n",
      "Loading F files (Index: 20)\n",
      "Loading F_LOW files (Index: 21)\n",
      "Loading G files (Index: 22)\n",
      "Loading G_LOW files (Index: 23)\n",
      "Loading H files (Index: 24)\n",
      "Loading H_LOW files (Index: 25)\n",
      "Loading I files (Index: 26)\n",
      "Loading I_LOW files (Index: 27)\n",
      "Loading J files (Index: 28)\n",
      "Loading J_LOW files (Index: 29)\n",
      "Loading K files (Index: 30)\n",
      "Loading K_LOW files (Index: 31)\n",
      "Loading L files (Index: 32)\n",
      "Loading L_LOW files (Index: 33)\n",
      "Loading M files (Index: 34)\n",
      "Loading M_LOW files (Index: 35)\n",
      "Loading N files (Index: 36)\n",
      "Loading N_LOW files (Index: 37)\n",
      "Loading O files (Index: 38)\n",
      "Loading O_LOW files (Index: 39)\n",
      "Loading P files (Index: 40)\n",
      "Loading P_LOW files (Index: 41)\n",
      "Loading Q files (Index: 42)\n",
      "Loading Q_LOW files (Index: 43)\n",
      "Loading R files (Index: 44)\n",
      "Loading R_LOW files (Index: 45)\n",
      "Loading S files (Index: 46)\n",
      "Loading S_LOW files (Index: 47)\n",
      "Loading T files (Index: 48)\n",
      "Loading T_LOW files (Index: 49)\n",
      "Loading U files (Index: 50)\n",
      "Loading U_LOW files (Index: 51)\n",
      "Loading V files (Index: 52)\n",
      "Loading V_LOW files (Index: 53)\n",
      "Loading W files (Index: 54)\n",
      "Loading W_LOW files (Index: 55)\n",
      "Loading X files (Index: 56)\n",
      "Loading X_LOW files (Index: 57)\n",
      "Loading Y files (Index: 58)\n",
      "Loading Y_LOW files (Index: 59)\n",
      "Loading Z files (Index: 60)\n",
      "Loading Z_LOW files (Index: 61)\n"
     ]
    }
   ],
   "source": [
    "#first time loading\n",
    "train_data = dataset.read_train_sets(train_path, img_size, classes, validation_size=validation_size)\n",
    "test_data = dataset.read_test_set(test_path, img_size,classes)"
   ]
  },
  {
   "cell_type": "code",
   "execution_count": 6,
   "metadata": {
    "collapsed": false,
    "deletable": true,
    "editable": true
   },
   "outputs": [
    {
     "name": "stdout",
     "output_type": "stream",
     "text": [
      "- Data loaded from cache-file: C:/Users/Konstantin/Machine Learning/NIST Handwritten project/cache_NIST\\images_train.pkl\n",
      "- Data loaded from cache-file: C:/Users/Konstantin/Machine Learning/NIST Handwritten project/cache_NIST\\cls_train.pkl\n",
      "- Data loaded from cache-file: C:/Users/Konstantin/Machine Learning/NIST Handwritten project/cache_NIST\\labels_train.pkl\n",
      "- Data loaded from cache-file: C:/Users/Konstantin/Machine Learning/NIST Handwritten project/cache_NIST\\ids_train.pkl\n",
      "- Data loaded from cache-file: C:/Users/Konstantin/Machine Learning/NIST Handwritten project/cache_NIST\\images_valid.pkl\n",
      "- Data loaded from cache-file: C:/Users/Konstantin/Machine Learning/NIST Handwritten project/cache_NIST\\cls_valid.pkl\n",
      "- Data loaded from cache-file: C:/Users/Konstantin/Machine Learning/NIST Handwritten project/cache_NIST\\labels_valid.pkl\n",
      "- Data loaded from cache-file: C:/Users/Konstantin/Machine Learning/NIST Handwritten project/cache_NIST\\ids_valid.pkl\n",
      "- Data loaded from cache-file: C:/Users/Konstantin/Machine Learning/NIST Handwritten project/cache_NIST\\images_test.pkl\n",
      "- Data loaded from cache-file: C:/Users/Konstantin/Machine Learning/NIST Handwritten project/cache_NIST\\cls_test.pkl\n",
      "- Data loaded from cache-file: C:/Users/Konstantin/Machine Learning/NIST Handwritten project/cache_NIST\\labels_test.pkl\n",
      "- Data loaded from cache-file: C:/Users/Konstantin/Machine Learning/NIST Handwritten project/cache_NIST\\ids_test.pkl\n"
     ]
    }
   ],
   "source": [
    "from cache import cache_nof\n",
    "#custom cache paths\n",
    "images_train_data_path = os.path.join(cache_path, 'images_train.pkl')\n",
    "cls_train_data_path=os.path.join(cache_path, 'cls_train.pkl')\n",
    "labels_train_data_path=os.path.join(cache_path, 'labels_train.pkl')\n",
    "ids_train_data_path=os.path.join(cache_path, 'ids_train.pkl')\n",
    "images_valid_data_path=os.path.join(cache_path, 'images_valid.pkl')\n",
    "cls_valid_data_path=os.path.join(cache_path, 'cls_valid.pkl')\n",
    "labels_valid_data_path=os.path.join(cache_path, 'labels_valid.pkl')\n",
    "ids_valid_data_path=os.path.join(cache_path, 'ids_valid.pkl')\n",
    "images_test_data_path=os.path.join(cache_path, 'images_test.pkl')\n",
    "cls_test_data_path=os.path.join(cache_path, 'cls_test.pkl')\n",
    "ids_test_data_path=os.path.join(cache_path, 'ids_test.pkl')\n",
    "labels_test_data_path=os.path.join(cache_path, 'labels_test.pkl')\n",
    "\n",
    "images_train=cache_nof(images_train_data_path,train_data.train.images)\n",
    "cls_train=cache_nof(cls_train_data_path,train_data.train.cls)\n",
    "labels_train=cache_nof(labels_train_data_path,train_data.train.labels)\n",
    "ids_train=cache_nof(ids_train_data_path,train_data.train.ids)\n",
    "images_valid=cache_nof(images_valid_data_path,train_data.valid.images)\n",
    "cls_valid=cache_nof(cls_valid_data_path,train_data.valid.cls)\n",
    "labels_valid=cache_nof(labels_valid_data_path,train_data.valid.labels)\n",
    "ids_valid=cache_nof(ids_valid_data_path,train_data.valid.ids)\n",
    "images_test=cache_nof(images_test_data_path,test_data.test.images)\n",
    "cls_test=cache_nof(cls_test_data_path,test_data.test.cls)\n",
    "labels_test=cache_nof(labels_test_data_path,test_data.test.labels)\n",
    "ids_test=cache_nof(ids_test_data_path,test_data.test.ids)"
   ]
  },
  {
   "cell_type": "code",
   "execution_count": 7,
   "metadata": {
    "collapsed": false,
    "deletable": true,
    "editable": true
   },
   "outputs": [
    {
     "name": "stdout",
     "output_type": "stream",
     "text": [
      "Size of:\n",
      "- Training-set:\t\t80000\n",
      "- Test-set:\t\t31000\n",
      "- Validation-set:\t20000\n"
     ]
    }
   ],
   "source": [
    "print(\"Size of:\")\n",
    "print(\"- Training-set:\\t\\t{}\".format(len(train_data.train.labels)))\n",
    "print(\"- Test-set:\\t\\t{}\".format(len(test_data.test.labels)))\n",
    "print(\"- Validation-set:\\t{}\".format(len(train_data.valid.labels)))\n",
    "def plot_images(images, cls_true, cls_pred=None):\n",
    "    \n",
    "    if len(images) == 0:\n",
    "        print(\"no images to show\")\n",
    "        return \n",
    "    else:\n",
    "        random_indices = random.sample(range(len(images)), min(len(images), 9))\n",
    "        \n",
    "        \n",
    "    images, cls_true  = zip(*[(images[i], cls_true[i]) for i in random_indices])\n",
    "    \n",
    "    fig, axes = plt.subplots(3, 3)\n",
    "    fig.subplots_adjust(hspace=0.3, wspace=0.3)\n",
    "\n",
    "    for i, ax in enumerate(axes.flat):\n",
    "\n",
    "        ax.imshow(images[i].reshape(img_size, img_size, num_channels))\n",
    "\n",
    "\n",
    "        if cls_pred is None:\n",
    "            xlabel = \"True: {0}\".format(cls_true[i])\n",
    "        else:\n",
    "            xlabel = \"True: {0}, Pred: {1}\".format(cls_true[i], cls_pred[i])\n",
    "\n",
    "        ax.set_xlabel(xlabel)\n",
    "        ax.set_xticks([])\n",
    "        ax.set_yticks([])\n",
    "    \n",
    "    plt.show()"
   ]
  },
  {
   "cell_type": "code",
   "execution_count": 8,
   "metadata": {
    "collapsed": false,
    "deletable": true,
    "editable": true
   },
   "outputs": [
    {
     "data": {
      "image/png": "[encoded data removed]",
      "text/plain": [
       "<matplotlib.figure.Figure at 0x249162bf1d0>"
      ]
     },
     "metadata": {},
     "output_type": "display_data"
    },
    {
     "data": {
      "image/png": "[encoded data removed]",
      "text/plain": [
       "<matplotlib.figure.Figure at 0x2491dd86390>"
      ]
     },
     "metadata": {},
     "output_type": "display_data"
    },
    {
     "data": {
      "image/png": "[encoded data removed]",
      "text/plain": [
       "<matplotlib.figure.Figure at 0x2495e86af60>"
      ]
     },
     "metadata": {},
     "output_type": "display_data"
    }
   ],
   "source": [
    "\n",
    "plot_images(images=images_train, cls_true=cls_train)\n",
    "plot_images(images=images_valid, cls_true=cls_valid)\n",
    "plot_images(images=images_test, cls_true=cls_test)"
   ]
  },
  {
   "cell_type": "code",
   "execution_count": null,
   "metadata": {
    "collapsed": false,
    "deletable": true,
    "editable": true
   },
   "outputs": [],
   "source": []
  },
  {
   "cell_type": "code",
   "execution_count": null,
   "metadata": {
    "collapsed": false,
    "deletable": true,
    "editable": true
   },
   "outputs": [],
   "source": []
  },
  {
   "cell_type": "code",
   "execution_count": 9,
   "metadata": {
    "collapsed": true,
    "deletable": true,
    "editable": true
   },
   "outputs": [],
   "source": [
    "file_path_cache_train = os.path.join(cache_path, 'vgg16_train_full_pool5.pkl')\n",
    "file_path_cache_test = os.path.join(cache_path, 'vgg16_test_full_pool5.pkl')\n",
    "file_path_cache_valid = os.path.join(cache_path, 'vgg16_valid_full_pool5.pkl')"
   ]
  },
  {
   "cell_type": "code",
   "execution_count": null,
   "metadata": {
    "collapsed": true,
    "deletable": true,
    "editable": true
   },
   "outputs": [],
   "source": []
  },
  {
   "cell_type": "code",
   "execution_count": 10,
   "metadata": {
    "collapsed": false,
    "deletable": true,
    "editable": true
   },
   "outputs": [
    {
     "name": "stdout",
     "output_type": "stream",
     "text": [
      "Processing VGG 16 transfer-values for training-images ...\n",
      "- Data loaded from cache-file: C:/Users/Konstantin/Machine Learning/NIST Handwritten project/cache_NIST\\vgg16_train_full_pool5.pkl\n"
     ]
    }
   ],
   "source": [
    "print(\"Processing VGG 16 transfer-values for training-images ...\")\n",
    "\n",
    "transfer_values_train = transfer_values_cache(cache_path=file_path_cache_train,\n",
    "                                              images=images_train,\n",
    "                                              model=model)"
   ]
  },
  {
   "cell_type": "code",
   "execution_count": null,
   "metadata": {
    "collapsed": true,
    "deletable": true,
    "editable": true
   },
   "outputs": [],
   "source": []
  },
  {
   "cell_type": "code",
   "execution_count": 11,
   "metadata": {
    "collapsed": false,
    "deletable": true,
    "editable": true
   },
   "outputs": [
    {
     "name": "stdout",
     "output_type": "stream",
     "text": [
      "Processing VGG 16 transfer-values for test-images ...\n",
      "- Data loaded from cache-file: C:/Users/Konstantin/Machine Learning/NIST Handwritten project/cache_NIST\\vgg16_test_full_pool5.pkl\n"
     ]
    }
   ],
   "source": [
    "print(\"Processing VGG 16 transfer-values for test-images ...\")\n",
    "\n",
    "transfer_values_test = transfer_values_cache(cache_path=file_path_cache_test,\n",
    "                                             images=images_test,\n",
    "                                             model=model)"
   ]
  },
  {
   "cell_type": "code",
   "execution_count": null,
   "metadata": {
    "collapsed": true,
    "deletable": true,
    "editable": true
   },
   "outputs": [],
   "source": []
  },
  {
   "cell_type": "code",
   "execution_count": 12,
   "metadata": {
    "collapsed": false,
    "deletable": true,
    "editable": true
   },
   "outputs": [
    {
     "name": "stdout",
     "output_type": "stream",
     "text": [
      "Processing VGG 16 transfer-values for validation-images ...\n",
      "- Data loaded from cache-file: C:/Users/Konstantin/Machine Learning/NIST Handwritten project/cache_NIST\\vgg16_valid_full_pool5.pkl\n"
     ]
    }
   ],
   "source": [
    "print(\"Processing VGG 16 transfer-values for validation-images ...\")\n",
    "\n",
    "transfer_values_valid = transfer_values_cache(cache_path=file_path_cache_valid,\n",
    "                                             images=images_valid,\n",
    "                                             model=model)"
   ]
  },
  {
   "cell_type": "code",
   "execution_count": 13,
   "metadata": {
    "collapsed": false,
    "deletable": true,
    "editable": true
   },
   "outputs": [],
   "source": [
    "transfer_values_train_r=transfer_values_train.reshape(len(train_data.train.labels),8192)\n",
    "transfer_values_test_r=transfer_values_test.reshape(len(test_data.test.labels),8192)\n",
    "transfer_values_valid_r=transfer_values_valid.reshape(len(train_data.valid.labels),8192)"
   ]
  },
  {
   "cell_type": "code",
   "execution_count": 14,
   "metadata": {
    "collapsed": true,
    "deletable": true,
    "editable": true
   },
   "outputs": [],
   "source": [
    "def plot_transfer_values(i):\n",
    "    print(\"Input image:\")\n",
    "    \n",
    "    # Plot the i'th image from the test-set.\n",
    "    plt.imshow(images_test[i], interpolation='nearest')\n",
    "    plt.show()\n",
    "\n",
    "    print(\"Transfer-values for the image using VGG16 model:\")\n",
    "    \n",
    "    img = transfer_values_test_r[i]\n",
    "    img = img.reshape((64,128))\n",
    "\n",
    "    plt.imshow(img, interpolation='nearest', cmap='Reds')\n",
    "    plt.show()"
   ]
  },
  {
   "cell_type": "code",
   "execution_count": 15,
   "metadata": {
    "collapsed": false,
    "deletable": true,
    "editable": true
   },
   "outputs": [
    {
     "name": "stdout",
     "output_type": "stream",
     "text": [
      "Input image:\n"
     ]
    },
    {
     "data": {
      "image/png": "[encoded data removed]",
      "text/plain": [
       "<matplotlib.figure.Figure at 0x260c87b1c50>"
      ]
     },
     "metadata": {},
     "output_type": "display_data"
    },
    {
     "name": "stdout",
     "output_type": "stream",
     "text": [
      "Transfer-values for the image using VGG16 model:\n"
     ]
    },
    {
     "data": {
      "image/png": "[encoded data removed]",
      "text/plain": [
       "<matplotlib.figure.Figure at 0x260e34e5908>"
      ]
     },
     "metadata": {},
     "output_type": "display_data"
    }
   ],
   "source": [
    "plot_transfer_values(i=1000)"
   ]
  },
  {
   "cell_type": "code",
   "execution_count": 16,
   "metadata": {
    "collapsed": false,
    "deletable": true,
    "editable": true
   },
   "outputs": [
    {
     "name": "stdout",
     "output_type": "stream",
     "text": [
      "Input image:\n"
     ]
    },
    {
     "data": {
      "image/png": "[encoded data removed]",
      "text/plain": [
       "<matplotlib.figure.Figure at 0x25fdeeac400>"
      ]
     },
     "metadata": {},
     "output_type": "display_data"
    },
    {
     "name": "stdout",
     "output_type": "stream",
     "text": [
      "Transfer-values for the image using VGG16 model:\n"
     ]
    },
    {
     "data": {
      "image/png": "[encoded data removed]",
      "text/plain": [
       "<matplotlib.figure.Figure at 0x25fddca0748>"
      ]
     },
     "metadata": {},
     "output_type": "display_data"
    }
   ],
   "source": [
    "plot_transfer_values(i=20253)"
   ]
  },
  {
   "cell_type": "code",
   "execution_count": 17,
   "metadata": {
    "collapsed": true,
    "deletable": true,
    "editable": true
   },
   "outputs": [],
   "source": [
    "from sklearn.decomposition import PCA\n",
    "pca = PCA(n_components=2)\n",
    "transfer_values = transfer_values_train_r[0:6000]\n",
    "cls = cls_train[0:6000]"
   ]
  },
  {
   "cell_type": "code",
   "execution_count": 18,
   "metadata": {
    "collapsed": false,
    "deletable": true,
    "editable": true
   },
   "outputs": [
    {
     "data": {
      "text/plain": [
       "(6000, 8192)"
      ]
     },
     "execution_count": 18,
     "metadata": {},
     "output_type": "execute_result"
    }
   ],
   "source": [
    "transfer_values.shape"
   ]
  },
  {
   "cell_type": "code",
   "execution_count": 19,
   "metadata": {
    "collapsed": true,
    "deletable": true,
    "editable": true
   },
   "outputs": [],
   "source": [
    "transfer_values_reduced = pca.fit_transform(transfer_values)"
   ]
  },
  {
   "cell_type": "code",
   "execution_count": 20,
   "metadata": {
    "collapsed": false,
    "deletable": true,
    "editable": true
   },
   "outputs": [
    {
     "data": {
      "text/plain": [
       "(6000, 2)"
      ]
     },
     "execution_count": 20,
     "metadata": {},
     "output_type": "execute_result"
    }
   ],
   "source": [
    "transfer_values_reduced.shape"
   ]
  },
  {
   "cell_type": "code",
   "execution_count": 21,
   "metadata": {
    "collapsed": true,
    "deletable": true,
    "editable": true
   },
   "outputs": [],
   "source": [
    "def plot_scatter(values, cls):\n",
    "    import matplotlib.cm as cm\n",
    "    cmap = cm.rainbow(np.linspace(0.0, 1, num_classes))\n",
    "\n",
    "    colors = cmap[cls]\n",
    "\n",
    "    x = values[:, 0]\n",
    "    y = values[:, 1]\n",
    "\n",
    "    plt.scatter(x, y, color=colors)\n",
    "    plt.show()"
   ]
  },
  {
   "cell_type": "code",
   "execution_count": 22,
   "metadata": {
    "collapsed": false,
    "deletable": true,
    "editable": true
   },
   "outputs": [
    {
     "data": {
      "image/png": "[encoded data removed]",
      "text/plain": [
       "<matplotlib.figure.Figure at 0x25fdee906d8>"
      ]
     },
     "metadata": {},
     "output_type": "display_data"
    }
   ],
   "source": [
    "plot_scatter(transfer_values_reduced, class_numbers)"
   ]
  },
  {
   "cell_type": "code",
   "execution_count": 14,
   "metadata": {
    "collapsed": false,
    "deletable": true,
    "editable": true
   },
   "outputs": [
    {
     "data": {
      "text/plain": [
       "array([[ 1.,  0.,  0.,  0.,  0.,  0.,  0.,  0.,  0.,  0.,  0.,  0.,  0.,\n",
       "         0.,  0.,  0.,  0.,  0.,  0.,  0.,  0.,  0.,  0.,  0.,  0.,  0.,\n",
       "         0.,  0.,  0.,  0.,  0.,  0.,  0.,  0.,  0.,  0.,  0.,  0.,  0.,\n",
       "         0.,  0.,  0.,  0.,  0.,  0.,  0.,  0.,  0.,  0.,  0.,  0.,  0.,\n",
       "         0.,  0.,  0.,  0.,  0.,  0.,  0.,  0.,  0.,  0.],\n",
       "       [ 1.,  0.,  0.,  0.,  0.,  0.,  0.,  0.,  0.,  0.,  0.,  0.,  0.,\n",
       "         0.,  0.,  0.,  0.,  0.,  0.,  0.,  0.,  0.,  0.,  0.,  0.,  0.,\n",
       "         0.,  0.,  0.,  0.,  0.,  0.,  0.,  0.,  0.,  0.,  0.,  0.,  0.,\n",
       "         0.,  0.,  0.,  0.,  0.,  0.,  0.,  0.,  0.,  0.,  0.,  0.,  0.,\n",
       "         0.,  0.,  0.,  0.,  0.,  0.,  0.,  0.,  0.,  0.],\n",
       "       [ 1.,  0.,  0.,  0.,  0.,  0.,  0.,  0.,  0.,  0.,  0.,  0.,  0.,\n",
       "         0.,  0.,  0.,  0.,  0.,  0.,  0.,  0.,  0.,  0.,  0.,  0.,  0.,\n",
       "         0.,  0.,  0.,  0.,  0.,  0.,  0.,  0.,  0.,  0.,  0.,  0.,  0.,\n",
       "         0.,  0.,  0.,  0.,  0.,  0.,  0.,  0.,  0.,  0.,  0.,  0.,  0.,\n",
       "         0.,  0.,  0.,  0.,  0.,  0.,  0.,  0.,  0.,  0.],\n",
       "       [ 1.,  0.,  0.,  0.,  0.,  0.,  0.,  0.,  0.,  0.,  0.,  0.,  0.,\n",
       "         0.,  0.,  0.,  0.,  0.,  0.,  0.,  0.,  0.,  0.,  0.,  0.,  0.,\n",
       "         0.,  0.,  0.,  0.,  0.,  0.,  0.,  0.,  0.,  0.,  0.,  0.,  0.,\n",
       "         0.,  0.,  0.,  0.,  0.,  0.,  0.,  0.,  0.,  0.,  0.,  0.,  0.,\n",
       "         0.,  0.,  0.,  0.,  0.,  0.,  0.,  0.,  0.,  0.],\n",
       "       [ 1.,  0.,  0.,  0.,  0.,  0.,  0.,  0.,  0.,  0.,  0.,  0.,  0.,\n",
       "         0.,  0.,  0.,  0.,  0.,  0.,  0.,  0.,  0.,  0.,  0.,  0.,  0.,\n",
       "         0.,  0.,  0.,  0.,  0.,  0.,  0.,  0.,  0.,  0.,  0.,  0.,  0.,\n",
       "         0.,  0.,  0.,  0.,  0.,  0.,  0.,  0.,  0.,  0.,  0.,  0.,  0.,\n",
       "         0.,  0.,  0.,  0.,  0.,  0.,  0.,  0.,  0.,  0.]])"
      ]
     },
     "execution_count": 14,
     "metadata": {},
     "output_type": "execute_result"
    }
   ],
   "source": [
    "transfer_len=8192\n",
    "labels_test[0:5,:]\n"
   ]
  },
  {
   "cell_type": "code",
   "execution_count": 125,
   "metadata": {
    "collapsed": true,
    "deletable": true,
    "editable": true
   },
   "outputs": [],
   "source": [
    "cls_test = np.array([label.argmax() for label in labels_test])\n",
    "cls_valid = np.array([label.argmax() for label in labels_valid])"
   ]
  },
  {
   "cell_type": "code",
   "execution_count": 133,
   "metadata": {
    "collapsed": false,
    "deletable": true,
    "editable": true
   },
   "outputs": [],
   "source": [
    "x = tf.placeholder(tf.float32, [None, transfer_len],name='x')\n",
    "y_true = tf.placeholder(tf.float32, [None, num_classes],name='y_true')\n",
    "y_true_cls = tf.argmax(y_true, dimension=1)\n",
    "weights = tf.Variable(tf.zeros([transfer_len, num_classes]))\n",
    "biases = tf.Variable(tf.zeros([num_classes]))\n",
    "logits = tf.matmul(x, weights) + biases\n",
    "y_pred = tf.nn.softmax(logits)\n",
    "y_pred_cls = tf.argmax(y_pred, dimension=1)\n",
    "cross_entropy = tf.nn.softmax_cross_entropy_with_logits(logits=logits,\n",
    "                                                        labels=y_true)\n",
    "cost = tf.reduce_mean(cross_entropy)"
   ]
  },
  {
   "cell_type": "code",
   "execution_count": 134,
   "metadata": {
    "collapsed": false,
    "deletable": true,
    "editable": true
   },
   "outputs": [],
   "source": [
    "optimizer = tf.train.AdagradOptimizer(learning_rate=1e-4).minimize(cost)\n",
    "correct_prediction = tf.equal(y_pred_cls, y_true_cls)\n",
    "accuracy = tf.reduce_mean(tf.cast(correct_prediction, tf.float32))\n"
   ]
  },
  {
   "cell_type": "code",
   "execution_count": 135,
   "metadata": {
    "collapsed": false,
    "deletable": true,
    "editable": true
   },
   "outputs": [],
   "source": [
    "session = tf.Session()\n",
    "saver = tf.train.Saver()\n",
    "session.run(tf.global_variables_initializer())\n",
    "batch_size = 4000\n",
    "def random_batch():\n",
    "    num_images = len(transfer_values_train_r)\n",
    "\n",
    "    idx = np.random.choice(num_images,\n",
    "                           size=batch_size,\n",
    "                           replace=False)\n",
    "\n",
    "    x_batch = transfer_values_train_r[idx]\n",
    "    y_batch = labels_train[idx]\n",
    "\n",
    "    return x_batch, y_batch\n",
    "def random_batch_valid():\n",
    "    num_images = len(transfer_values_valid_r)\n",
    "\n",
    "    idx = np.random.choice(num_images,\n",
    "                           size=batch_size,\n",
    "                           replace=False)\n",
    "\n",
    "    x_batch = transfer_values_valid_r[idx]\n",
    "    y_batch = labels_valid[idx]\n",
    "\n",
    "    return x_batch, y_batch\n",
    "def optimize(num_iterations):\n",
    "    saver = tf.train.Saver()\n",
    "    start_time = time.time()\n",
    "    for i in range(num_iterations):\n",
    "        x_batch, y_true_batch=random_batch()\n",
    "        x_batch_val, y_true_batch_val=random_batch_valid()\n",
    "        feed_dict_train = {x: x_batch,\n",
    "                           y_true: y_true_batch}\n",
    "        feed_dict_valid = {x: x_batch_val,\n",
    "                           y_true: y_true_batch_val}\n",
    "        session.run(optimizer, feed_dict=feed_dict_train)\n",
    "        #session.run(optimizer, feed_dict=feed_dict_valid)\n",
    "        # Print status every 100 iterations.\n",
    "        if i % 100 == 0:\n",
    "                    \n",
    "            # Calculate the accuracy on the training-set.\n",
    "            acc = session.run(accuracy, feed_dict=feed_dict_train)\n",
    "            msg = \"Optimization Iteration: {0:>6}, Training Accuracy: {1:>6.1%}\"\n",
    "            print(msg.format(i + 1, acc))\n",
    "            print_accuracy_test()\n",
    "            \n",
    "    save_path=saver.save(session, 'C:/Users/Konstantin/Machine Learning/NIST Handwritten project/NIST_classifier/model_save/my_model',\n",
    "              global_step=num_iterations) \n",
    "    print(\"Model saved in file: %s\" % save_path)\n",
    "    end_time = time.time()\n",
    "    time_dif = end_time - start_time\n",
    "    print(\"Time usage: \" + str(timedelta(seconds=int(round(time_dif)))))\n",
    "    \n",
    "  \n"
   ]
  },
  {
   "cell_type": "code",
   "execution_count": 136,
   "metadata": {
    "collapsed": false,
    "deletable": true,
    "editable": true
   },
   "outputs": [],
   "source": [
    "feed_dict_test = {x: transfer_values_test_r,\n",
    "                  y_true: labels_test}\n",
    "feed_dict_train = {x: transfer_values_train_r,\n",
    "                  y_true: labels_train}\n",
    "feed_dict_valid = {x: transfer_values_valid_r,\n",
    "                  y_true: labels_valid}"
   ]
  },
  {
   "cell_type": "code",
   "execution_count": 137,
   "metadata": {
    "collapsed": true,
    "deletable": true,
    "editable": true
   },
   "outputs": [],
   "source": [
    "def print_accuracy_test():\n",
    "    acc = session.run(accuracy, feed_dict=feed_dict_test)\n",
    "    print(\"Accuracy on test-set: {0:.1%}\".format(acc))\n",
    "def print_accuracy_valid():\n",
    "    acc_valid=session.run(accuracy, feed_dict=feed_dict_valid)\n",
    "    print(\"Accuracy on validation-set: {0:.1%}\".format(acc_valid))"
   ]
  },
  {
   "cell_type": "code",
   "execution_count": 138,
   "metadata": {
    "collapsed": true,
    "deletable": true,
    "editable": true
   },
   "outputs": [],
   "source": [
    "def plot_example_errors():\n",
    "\n",
    "    correct, cls_pred = session.run([correct_prediction, y_pred_cls],\n",
    "                                    feed_dict=feed_dict_test)\n",
    "\n",
    "    incorrect = (correct == False)\n",
    "    images = images_test[incorrect]\n",
    "    cls_pred = cls_pred[incorrect]\n",
    "    cls_true = cls_test[incorrect]\n",
    "    \n",
    "    # Plot the first 9 images.\n",
    "    plot_images(images=images[0:9],\n",
    "                cls_true=cls_true[0:9],\n",
    "                cls_pred=cls_pred[0:9])"
   ]
  },
  {
   "cell_type": "markdown",
   "metadata": {
    "deletable": true,
    "editable": true
   },
   "source": [
    "## No optimization"
   ]
  },
  {
   "cell_type": "code",
   "execution_count": 139,
   "metadata": {
    "collapsed": false,
    "deletable": true,
    "editable": true
   },
   "outputs": [
    {
     "name": "stdout",
     "output_type": "stream",
     "text": [
      "Accuracy on test-set: 1.6%\n"
     ]
    },
    {
     "data": {
      "image/png": "[encoded data removed]",
      "text/plain": [
       "<matplotlib.figure.Figure at 0x24b84a587f0>"
      ]
     },
     "metadata": {},
     "output_type": "display_data"
    }
   ],
   "source": [
    "print_accuracy_test()\n",
    "plot_example_errors()"
   ]
  },
  {
   "cell_type": "markdown",
   "metadata": {
    "deletable": true,
    "editable": true
   },
   "source": [
    "## 1 iteration opt"
   ]
  },
  {
   "cell_type": "code",
   "execution_count": 140,
   "metadata": {
    "collapsed": false,
    "deletable": true,
    "editable": true,
    "scrolled": true
   },
   "outputs": [
    {
     "name": "stdout",
     "output_type": "stream",
     "text": [
      "Optimization Iteration:      1, Training Accuracy:  20.0%\n",
      "Accuracy on validation-set: 17.6%\n",
      "Accuracy on test-set: 12.2%\n",
      "Model saved in file: C:/Users/Konstantin/Machine Learning/NIST Handwritten project/NIST_classifier/model_save/my_model-1\n",
      "Time usage: 0:00:07\n",
      "Accuracy on test-set: 12.2%\n"
     ]
    },
    {
     "data": {
      "image/png": "[encoded data removed]",
      "text/plain": [
       "<matplotlib.figure.Figure at 0x24b845ad1d0>"
      ]
     },
     "metadata": {},
     "output_type": "display_data"
    }
   ],
   "source": [
    "\n",
    "optimize(num_iterations=1)\n",
    "print_accuracy_test()\n",
    "plot_example_errors()"
   ]
  },
  {
   "cell_type": "markdown",
   "metadata": {
    "deletable": true,
    "editable": true
   },
   "source": [
    "## 1000 iteration opt"
   ]
  },
  {
   "cell_type": "code",
   "execution_count": 141,
   "metadata": {
    "collapsed": false,
    "deletable": true,
    "editable": true
   },
   "outputs": [
    {
     "name": "stdout",
     "output_type": "stream",
     "text": [
      "Optimization Iteration:      1, Training Accuracy:  19.7%\n",
      "Accuracy on validation-set: 18.3%\n",
      "Accuracy on test-set: 19.7%\n",
      "Optimization Iteration:    101, Training Accuracy:  81.0%\n",
      "Accuracy on validation-set: 74.7%\n",
      "Accuracy on test-set: 77.2%\n",
      "Optimization Iteration:    201, Training Accuracy:  87.6%\n",
      "Accuracy on validation-set: 79.0%\n",
      "Accuracy on test-set: 83.9%\n",
      "Optimization Iteration:    301, Training Accuracy:  88.5%\n",
      "Accuracy on validation-set: 79.0%\n",
      "Accuracy on test-set: 85.4%\n",
      "Optimization Iteration:    401, Training Accuracy:  88.9%\n",
      "Accuracy on validation-set: 78.8%\n",
      "Accuracy on test-set: 85.9%\n",
      "Optimization Iteration:    501, Training Accuracy:  92.2%\n",
      "Accuracy on validation-set: 80.2%\n",
      "Accuracy on test-set: 88.4%\n",
      "Optimization Iteration:    601, Training Accuracy:  92.8%\n",
      "Accuracy on validation-set: 81.0%\n",
      "Accuracy on test-set: 89.8%\n",
      "Optimization Iteration:    701, Training Accuracy:  93.4%\n",
      "Accuracy on validation-set: 80.4%\n",
      "Accuracy on test-set: 89.6%\n",
      "Optimization Iteration:    801, Training Accuracy:  94.5%\n",
      "Accuracy on validation-set: 81.0%\n",
      "Accuracy on test-set: 90.8%\n",
      "Optimization Iteration:    901, Training Accuracy:  94.8%\n",
      "Accuracy on validation-set: 81.0%\n",
      "Accuracy on test-set: 91.1%\n",
      "Model saved in file: C:/Users/Konstantin/Machine Learning/NIST Handwritten project/NIST_classifier/model_save/my_model-1000\n",
      "Time usage: 0:04:17\n",
      "Accuracy on test-set: 91.9%\n"
     ]
    },
    {
     "data": {
      "image/png": "[encoded data removed]",
      "text/plain": [
       "<matplotlib.figure.Figure at 0x24b84ca4080>"
      ]
     },
     "metadata": {},
     "output_type": "display_data"
    }
   ],
   "source": [
    "optimize(num_iterations=1000)\n",
    "print_accuracy_test()\n",
    "plot_example_errors()"
   ]
  },
  {
   "cell_type": "code",
   "execution_count": null,
   "metadata": {
    "collapsed": false,
    "deletable": true,
    "editable": true
   },
   "outputs": [],
   "source": []
  },
  {
   "cell_type": "code",
   "execution_count": null,
   "metadata": {
    "collapsed": true,
    "deletable": true,
    "editable": true
   },
   "outputs": [],
   "source": []
  },
  {
   "cell_type": "code",
   "execution_count": null,
   "metadata": {
    "collapsed": false,
    "deletable": true,
    "editable": true
   },
   "outputs": [],
   "source": []
  },
  {
   "cell_type": "code",
   "execution_count": 142,
   "metadata": {
    "collapsed": false,
    "deletable": true,
    "editable": true
   },
   "outputs": [
    {
     "name": "stdout",
     "output_type": "stream",
     "text": [
      "Optimization Iteration:      1, Training Accuracy:  96.0%\n",
      "Accuracy on validation-set: 81.3%\n",
      "Accuracy on test-set: 92.1%\n",
      "Optimization Iteration:    101, Training Accuracy:  96.2%\n",
      "Accuracy on validation-set: 81.3%\n",
      "Accuracy on test-set: 92.4%\n",
      "Optimization Iteration:    201, Training Accuracy:  95.8%\n",
      "Accuracy on validation-set: 80.9%\n",
      "Accuracy on test-set: 91.8%\n",
      "Optimization Iteration:    301, Training Accuracy:  96.5%\n",
      "Accuracy on validation-set: 81.3%\n",
      "Accuracy on test-set: 92.5%\n",
      "Optimization Iteration:    401, Training Accuracy:  95.7%\n",
      "Accuracy on validation-set: 80.9%\n",
      "Accuracy on test-set: 92.0%\n",
      "Optimization Iteration:    501, Training Accuracy:  96.7%\n",
      "Accuracy on validation-set: 81.2%\n",
      "Accuracy on test-set: 92.8%\n",
      "Optimization Iteration:    601, Training Accuracy:  95.6%\n",
      "Accuracy on validation-set: 81.0%\n",
      "Accuracy on test-set: 92.2%\n",
      "Optimization Iteration:    701, Training Accuracy:  97.4%\n",
      "Accuracy on validation-set: 80.9%\n",
      "Accuracy on test-set: 93.1%\n",
      "Optimization Iteration:    801, Training Accuracy:  97.2%\n",
      "Accuracy on validation-set: 81.1%\n",
      "Accuracy on test-set: 93.6%\n",
      "Optimization Iteration:    901, Training Accuracy:  97.8%\n",
      "Accuracy on validation-set: 81.4%\n",
      "Accuracy on test-set: 94.0%\n",
      "Model saved in file: C:/Users/Konstantin/Machine Learning/NIST Handwritten project/NIST_classifier/model_save/my_model-1000\n",
      "Time usage: 0:04:19\n",
      "Accuracy on test-set: 93.2%\n"
     ]
    },
    {
     "data": {
      "image/png": "[encoded data removed]",
      "text/plain": [
       "<matplotlib.figure.Figure at 0x24b96cb01d0>"
      ]
     },
     "metadata": {},
     "output_type": "display_data"
    }
   ],
   "source": [
    "optimize(num_iterations=1000)\n",
    "print_accuracy_test()\n",
    "plot_example_errors()"
   ]
  },
  {
   "cell_type": "code",
   "execution_count": 143,
   "metadata": {
    "collapsed": false,
    "deletable": true,
    "editable": true
   },
   "outputs": [
    {
     "name": "stdout",
     "output_type": "stream",
     "text": [
      "Optimization Iteration:      1, Training Accuracy:  97.3%\n",
      "Accuracy on validation-set: 81.1%\n",
      "Accuracy on test-set: 93.4%\n",
      "Optimization Iteration:    101, Training Accuracy:  95.8%\n",
      "Accuracy on validation-set: 80.6%\n",
      "Accuracy on test-set: 92.4%\n",
      "Optimization Iteration:    201, Training Accuracy:  98.3%\n",
      "Accuracy on validation-set: 81.2%\n",
      "Accuracy on test-set: 94.3%\n",
      "Optimization Iteration:    301, Training Accuracy:  97.7%\n",
      "Accuracy on validation-set: 81.3%\n",
      "Accuracy on test-set: 94.2%\n",
      "Optimization Iteration:    401, Training Accuracy:  97.8%\n",
      "Accuracy on validation-set: 80.8%\n",
      "Accuracy on test-set: 93.7%\n",
      "Optimization Iteration:    501, Training Accuracy:  97.2%\n",
      "Accuracy on validation-set: 80.9%\n",
      "Accuracy on test-set: 93.4%\n",
      "Optimization Iteration:    601, Training Accuracy:  98.8%\n",
      "Accuracy on validation-set: 81.4%\n",
      "Accuracy on test-set: 94.8%\n",
      "Optimization Iteration:    701, Training Accuracy:  98.8%\n",
      "Accuracy on validation-set: 81.3%\n",
      "Accuracy on test-set: 94.6%\n",
      "Optimization Iteration:    801, Training Accuracy:  98.4%\n",
      "Accuracy on validation-set: 81.0%\n",
      "Accuracy on test-set: 94.3%\n",
      "Optimization Iteration:    901, Training Accuracy:  99.0%\n",
      "Accuracy on validation-set: 81.5%\n",
      "Accuracy on test-set: 94.8%\n",
      "Model saved in file: C:/Users/Konstantin/Machine Learning/NIST Handwritten project/NIST_classifier/model_save/my_model-1000\n",
      "Time usage: 0:04:22\n",
      "Accuracy on test-set: 94.5%\n"
     ]
    },
    {
     "data": {
      "image/png": "[encoded data removed]",
      "text/plain": [
       "<matplotlib.figure.Figure at 0x24b8f19d048>"
      ]
     },
     "metadata": {},
     "output_type": "display_data"
    }
   ],
   "source": [
    "optimize(num_iterations=1000)\n",
    "print_accuracy_test()\n",
    "plot_example_errors()"
   ]
  },
  {
   "cell_type": "code",
   "execution_count": 144,
   "metadata": {
    "collapsed": false,
    "deletable": true,
    "editable": true
   },
   "outputs": [
    {
     "name": "stdout",
     "output_type": "stream",
     "text": [
      "Optimization Iteration:      1, Training Accuracy:  98.6%\n",
      "Accuracy on validation-set: 81.3%\n",
      "Accuracy on test-set: 94.7%\n",
      "Optimization Iteration:    101, Training Accuracy:  98.6%\n",
      "Accuracy on validation-set: 81.4%\n",
      "Accuracy on test-set: 94.7%\n",
      "Optimization Iteration:    201, Training Accuracy:  98.7%\n",
      "Accuracy on validation-set: 81.4%\n",
      "Accuracy on test-set: 95.0%\n",
      "Optimization Iteration:    301, Training Accuracy:  98.6%\n",
      "Accuracy on validation-set: 81.3%\n",
      "Accuracy on test-set: 94.5%\n",
      "Optimization Iteration:    401, Training Accuracy:  99.1%\n",
      "Accuracy on validation-set: 81.4%\n",
      "Accuracy on test-set: 95.1%\n",
      "Optimization Iteration:    501, Training Accuracy:  99.0%\n",
      "Accuracy on validation-set: 81.4%\n",
      "Accuracy on test-set: 95.2%\n",
      "Optimization Iteration:    601, Training Accuracy:  98.8%\n",
      "Accuracy on validation-set: 81.2%\n",
      "Accuracy on test-set: 94.6%\n",
      "Optimization Iteration:    701, Training Accuracy:  98.6%\n",
      "Accuracy on validation-set: 81.1%\n",
      "Accuracy on test-set: 94.4%\n",
      "Optimization Iteration:    801, Training Accuracy:  99.4%\n",
      "Accuracy on validation-set: 81.4%\n",
      "Accuracy on test-set: 95.2%\n",
      "Optimization Iteration:    901, Training Accuracy:  98.9%\n",
      "Accuracy on validation-set: 81.2%\n",
      "Accuracy on test-set: 95.0%\n",
      "Optimization Iteration:   1001, Training Accuracy:  99.3%\n",
      "Accuracy on validation-set: 81.3%\n",
      "Accuracy on test-set: 95.1%\n",
      "Optimization Iteration:   1101, Training Accuracy:  98.9%\n",
      "Accuracy on validation-set: 81.2%\n",
      "Accuracy on test-set: 94.8%\n",
      "Optimization Iteration:   1201, Training Accuracy:  99.4%\n",
      "Accuracy on validation-set: 81.2%\n",
      "Accuracy on test-set: 95.2%\n",
      "Optimization Iteration:   1301, Training Accuracy:  98.9%\n",
      "Accuracy on validation-set: 81.4%\n",
      "Accuracy on test-set: 95.0%\n",
      "Optimization Iteration:   1401, Training Accuracy:  98.8%\n",
      "Accuracy on validation-set: 81.1%\n",
      "Accuracy on test-set: 94.7%\n",
      "Optimization Iteration:   1501, Training Accuracy:  98.9%\n",
      "Accuracy on validation-set: 81.4%\n",
      "Accuracy on test-set: 94.8%\n",
      "Optimization Iteration:   1601, Training Accuracy:  98.6%\n",
      "Accuracy on validation-set: 81.1%\n",
      "Accuracy on test-set: 94.6%\n",
      "Optimization Iteration:   1701, Training Accuracy:  98.3%\n",
      "Accuracy on validation-set: 80.9%\n",
      "Accuracy on test-set: 94.1%\n",
      "Optimization Iteration:   1801, Training Accuracy:  99.3%\n",
      "Accuracy on validation-set: 81.3%\n",
      "Accuracy on test-set: 95.3%\n",
      "Optimization Iteration:   1901, Training Accuracy:  99.3%\n",
      "Accuracy on validation-set: 81.3%\n",
      "Accuracy on test-set: 95.4%\n",
      "Optimization Iteration:   2001, Training Accuracy:  99.3%\n",
      "Accuracy on validation-set: 81.3%\n",
      "Accuracy on test-set: 95.3%\n",
      "Optimization Iteration:   2101, Training Accuracy:  99.1%\n",
      "Accuracy on validation-set: 81.4%\n",
      "Accuracy on test-set: 95.1%\n",
      "Optimization Iteration:   2201, Training Accuracy:  98.8%\n",
      "Accuracy on validation-set: 81.1%\n",
      "Accuracy on test-set: 94.7%\n",
      "Optimization Iteration:   2301, Training Accuracy:  99.3%\n",
      "Accuracy on validation-set: 81.4%\n",
      "Accuracy on test-set: 95.3%\n",
      "Optimization Iteration:   2401, Training Accuracy:  99.3%\n",
      "Accuracy on validation-set: 81.2%\n",
      "Accuracy on test-set: 95.1%\n",
      "Optimization Iteration:   2501, Training Accuracy:  99.0%\n",
      "Accuracy on validation-set: 81.2%\n",
      "Accuracy on test-set: 95.1%\n",
      "Optimization Iteration:   2601, Training Accuracy:  99.3%\n",
      "Accuracy on validation-set: 81.2%\n",
      "Accuracy on test-set: 95.1%\n",
      "Optimization Iteration:   2701, Training Accuracy:  99.5%\n",
      "Accuracy on validation-set: 81.3%\n",
      "Accuracy on test-set: 95.4%\n",
      "Optimization Iteration:   2801, Training Accuracy:  99.5%\n",
      "Accuracy on validation-set: 81.4%\n",
      "Accuracy on test-set: 95.4%\n",
      "Optimization Iteration:   2901, Training Accuracy:  98.8%\n",
      "Accuracy on validation-set: 81.2%\n",
      "Accuracy on test-set: 94.6%\n",
      "Optimization Iteration:   3001, Training Accuracy:  99.5%\n",
      "Accuracy on validation-set: 81.3%\n",
      "Accuracy on test-set: 95.3%\n",
      "Optimization Iteration:   3101, Training Accuracy:  99.0%\n",
      "Accuracy on validation-set: 81.2%\n",
      "Accuracy on test-set: 95.1%\n",
      "Optimization Iteration:   3201, Training Accuracy:  99.2%\n",
      "Accuracy on validation-set: 81.4%\n",
      "Accuracy on test-set: 95.1%\n",
      "Optimization Iteration:   3301, Training Accuracy:  99.3%\n",
      "Accuracy on validation-set: 81.4%\n",
      "Accuracy on test-set: 95.4%\n",
      "Optimization Iteration:   3401, Training Accuracy:  99.6%\n",
      "Accuracy on validation-set: 81.4%\n",
      "Accuracy on test-set: 95.4%\n",
      "Optimization Iteration:   3501, Training Accuracy:  99.2%\n",
      "Accuracy on validation-set: 81.4%\n",
      "Accuracy on test-set: 95.1%\n",
      "Optimization Iteration:   3601, Training Accuracy:  99.2%\n",
      "Accuracy on validation-set: 81.4%\n",
      "Accuracy on test-set: 95.3%\n",
      "Optimization Iteration:   3701, Training Accuracy:  99.5%\n",
      "Accuracy on validation-set: 81.4%\n",
      "Accuracy on test-set: 95.5%\n",
      "Optimization Iteration:   3801, Training Accuracy:  99.5%\n",
      "Accuracy on validation-set: 81.3%\n",
      "Accuracy on test-set: 95.5%\n",
      "Optimization Iteration:   3901, Training Accuracy:  99.7%\n",
      "Accuracy on validation-set: 81.4%\n",
      "Accuracy on test-set: 95.5%\n",
      "Optimization Iteration:   4001, Training Accuracy:  99.5%\n",
      "Accuracy on validation-set: 81.4%\n",
      "Accuracy on test-set: 95.4%\n",
      "Optimization Iteration:   4101, Training Accuracy:  99.5%\n",
      "Accuracy on validation-set: 81.5%\n",
      "Accuracy on test-set: 95.5%\n",
      "Optimization Iteration:   4201, Training Accuracy:  99.6%\n",
      "Accuracy on validation-set: 81.3%\n",
      "Accuracy on test-set: 95.3%\n",
      "Optimization Iteration:   4301, Training Accuracy:  98.9%\n",
      "Accuracy on validation-set: 81.1%\n",
      "Accuracy on test-set: 95.1%\n",
      "Optimization Iteration:   4401, Training Accuracy:  99.8%\n",
      "Accuracy on validation-set: 81.4%\n",
      "Accuracy on test-set: 95.5%\n",
      "Optimization Iteration:   4501, Training Accuracy:  99.6%\n",
      "Accuracy on validation-set: 81.4%\n",
      "Accuracy on test-set: 95.5%\n",
      "Optimization Iteration:   4601, Training Accuracy:  99.4%\n",
      "Accuracy on validation-set: 81.3%\n",
      "Accuracy on test-set: 95.5%\n",
      "Optimization Iteration:   4701, Training Accuracy:  99.5%\n",
      "Accuracy on validation-set: 81.4%\n",
      "Accuracy on test-set: 95.5%\n",
      "Optimization Iteration:   4801, Training Accuracy:  99.3%\n",
      "Accuracy on validation-set: 81.3%\n",
      "Accuracy on test-set: 95.2%\n",
      "Optimization Iteration:   4901, Training Accuracy:  99.5%\n",
      "Accuracy on validation-set: 81.4%\n",
      "Accuracy on test-set: 95.5%\n",
      "Model saved in file: C:/Users/Konstantin/Machine Learning/NIST Handwritten project/NIST_classifier/model_save/my_model-5000\n",
      "Time usage: 0:23:03\n",
      "Accuracy on test-set: 95.3%\n"
     ]
    },
    {
     "data": {
      "image/png": "[encoded data removed]",
      "text/plain": [
       "<matplotlib.figure.Figure at 0x24b8f9cd128>"
      ]
     },
     "metadata": {},
     "output_type": "display_data"
    }
   ],
   "source": [
    "optimize(num_iterations=5000)\n",
    "print_accuracy_test()\n",
    "plot_example_errors()"
   ]
  },
  {
   "cell_type": "code",
   "execution_count": 145,
   "metadata": {
    "collapsed": false,
    "deletable": true,
    "editable": true,
    "scrolled": true
   },
   "outputs": [
    {
     "name": "stdout",
     "output_type": "stream",
     "text": [
      "Optimization Iteration:      1, Training Accuracy:  99.2%\n",
      "Accuracy on validation-set: 81.2%\n",
      "Accuracy on test-set: 95.2%\n",
      "Optimization Iteration:    101, Training Accuracy:  99.6%\n",
      "Accuracy on validation-set: 81.4%\n",
      "Accuracy on test-set: 95.6%\n",
      "Optimization Iteration:    201, Training Accuracy:  99.6%\n",
      "Accuracy on validation-set: 81.3%\n",
      "Accuracy on test-set: 95.5%\n",
      "Optimization Iteration:    301, Training Accuracy:  99.3%\n",
      "Accuracy on validation-set: 81.2%\n",
      "Accuracy on test-set: 95.3%\n",
      "Optimization Iteration:    401, Training Accuracy:  99.5%\n",
      "Accuracy on validation-set: 81.3%\n",
      "Accuracy on test-set: 95.4%\n",
      "Optimization Iteration:    501, Training Accuracy:  99.8%\n",
      "Accuracy on validation-set: 81.5%\n",
      "Accuracy on test-set: 95.6%\n",
      "Optimization Iteration:    601, Training Accuracy:  99.7%\n",
      "Accuracy on validation-set: 81.4%\n",
      "Accuracy on test-set: 95.6%\n",
      "Optimization Iteration:    701, Training Accuracy:  99.6%\n",
      "Accuracy on validation-set: 81.3%\n",
      "Accuracy on test-set: 95.5%\n",
      "Optimization Iteration:    801, Training Accuracy:  99.6%\n",
      "Accuracy on validation-set: 81.4%\n",
      "Accuracy on test-set: 95.6%\n",
      "Optimization Iteration:    901, Training Accuracy:  99.6%\n",
      "Accuracy on validation-set: 81.4%\n",
      "Accuracy on test-set: 95.5%\n",
      "Optimization Iteration:   1001, Training Accuracy:  99.5%\n",
      "Accuracy on validation-set: 81.3%\n",
      "Accuracy on test-set: 95.3%\n",
      "Optimization Iteration:   1101, Training Accuracy:  99.7%\n",
      "Accuracy on validation-set: 81.3%\n",
      "Accuracy on test-set: 95.6%\n",
      "Optimization Iteration:   1201, Training Accuracy:  99.6%\n",
      "Accuracy on validation-set: 81.3%\n",
      "Accuracy on test-set: 95.4%\n",
      "Optimization Iteration:   1301, Training Accuracy:  99.7%\n",
      "Accuracy on validation-set: 81.4%\n",
      "Accuracy on test-set: 95.6%\n",
      "Optimization Iteration:   1401, Training Accuracy:  99.8%\n",
      "Accuracy on validation-set: 81.4%\n",
      "Accuracy on test-set: 95.6%\n",
      "Optimization Iteration:   1501, Training Accuracy:  99.7%\n",
      "Accuracy on validation-set: 81.4%\n",
      "Accuracy on test-set: 95.6%\n",
      "Optimization Iteration:   1601, Training Accuracy:  99.7%\n",
      "Accuracy on validation-set: 81.4%\n",
      "Accuracy on test-set: 95.6%\n",
      "Optimization Iteration:   1701, Training Accuracy:  99.4%\n",
      "Accuracy on validation-set: 81.3%\n",
      "Accuracy on test-set: 95.4%\n",
      "Optimization Iteration:   1801, Training Accuracy:  99.7%\n",
      "Accuracy on validation-set: 81.4%\n",
      "Accuracy on test-set: 95.6%\n",
      "Optimization Iteration:   1901, Training Accuracy:  99.7%\n",
      "Accuracy on validation-set: 81.4%\n",
      "Accuracy on test-set: 95.6%\n",
      "Optimization Iteration:   2001, Training Accuracy:  99.5%\n",
      "Accuracy on validation-set: 81.4%\n",
      "Accuracy on test-set: 95.5%\n",
      "Optimization Iteration:   2101, Training Accuracy:  99.7%\n",
      "Accuracy on validation-set: 81.3%\n",
      "Accuracy on test-set: 95.5%\n",
      "Optimization Iteration:   2201, Training Accuracy:  99.8%\n",
      "Accuracy on validation-set: 81.4%\n",
      "Accuracy on test-set: 95.7%\n",
      "Optimization Iteration:   2301, Training Accuracy:  99.6%\n",
      "Accuracy on validation-set: 81.4%\n",
      "Accuracy on test-set: 95.5%\n",
      "Optimization Iteration:   2401, Training Accuracy:  99.8%\n",
      "Accuracy on validation-set: 81.4%\n",
      "Accuracy on test-set: 95.6%\n",
      "Optimization Iteration:   2501, Training Accuracy:  99.7%\n",
      "Accuracy on validation-set: 81.4%\n",
      "Accuracy on test-set: 95.6%\n",
      "Optimization Iteration:   2601, Training Accuracy:  99.3%\n",
      "Accuracy on validation-set: 81.3%\n",
      "Accuracy on test-set: 95.4%\n",
      "Optimization Iteration:   2701, Training Accuracy:  99.6%\n",
      "Accuracy on validation-set: 81.4%\n",
      "Accuracy on test-set: 95.6%\n",
      "Optimization Iteration:   2801, Training Accuracy:  99.7%\n",
      "Accuracy on validation-set: 81.4%\n",
      "Accuracy on test-set: 95.6%\n",
      "Optimization Iteration:   2901, Training Accuracy:  99.7%\n",
      "Accuracy on validation-set: 81.4%\n",
      "Accuracy on test-set: 95.7%\n",
      "Model saved in file: C:/Users/Konstantin/Machine Learning/NIST Handwritten project/NIST_classifier/model_save/my_model-3000\n",
      "Time usage: 0:15:50\n",
      "Accuracy on test-set: 95.5%\n"
     ]
    },
    {
     "data": {
      "image/png": "[encoded data removed]",
      "text/plain": [
       "<matplotlib.figure.Figure at 0x24b8d163c88>"
      ]
     },
     "metadata": {},
     "output_type": "display_data"
    }
   ],
   "source": [
    "optimize(num_iterations=3000)\n",
    "print_accuracy_test()\n",
    "plot_example_errors()"
   ]
  },
  {
   "cell_type": "code",
   "execution_count": 146,
   "metadata": {
    "collapsed": false,
    "deletable": true,
    "editable": true,
    "scrolled": true
   },
   "outputs": [
    {
     "name": "stdout",
     "output_type": "stream",
     "text": [
      "Optimization Iteration:      1, Training Accuracy:  99.4%\n",
      "Accuracy on validation-set: 81.3%\n",
      "Accuracy on test-set: 95.5%\n",
      "Optimization Iteration:    101, Training Accuracy:  99.8%\n",
      "Accuracy on validation-set: 81.4%\n",
      "Accuracy on test-set: 95.7%\n",
      "Optimization Iteration:    201, Training Accuracy:  99.7%\n",
      "Accuracy on validation-set: 81.4%\n",
      "Accuracy on test-set: 95.7%\n",
      "Optimization Iteration:    301, Training Accuracy:  99.7%\n",
      "Accuracy on validation-set: 81.4%\n",
      "Accuracy on test-set: 95.5%\n",
      "Optimization Iteration:    401, Training Accuracy:  99.7%\n",
      "Accuracy on validation-set: 81.4%\n",
      "Accuracy on test-set: 95.7%\n",
      "Optimization Iteration:    501, Training Accuracy:  99.6%\n",
      "Accuracy on validation-set: 81.3%\n",
      "Accuracy on test-set: 95.5%\n",
      "Optimization Iteration:    601, Training Accuracy:  99.6%\n",
      "Accuracy on validation-set: 81.3%\n",
      "Accuracy on test-set: 95.5%\n",
      "Optimization Iteration:    701, Training Accuracy:  99.7%\n",
      "Accuracy on validation-set: 81.4%\n",
      "Accuracy on test-set: 95.7%\n",
      "Optimization Iteration:    801, Training Accuracy:  99.8%\n",
      "Accuracy on validation-set: 81.5%\n",
      "Accuracy on test-set: 95.7%\n",
      "Optimization Iteration:    901, Training Accuracy:  99.6%\n",
      "Accuracy on validation-set: 81.4%\n",
      "Accuracy on test-set: 95.5%\n",
      "Optimization Iteration:   1001, Training Accuracy:  99.4%\n",
      "Accuracy on validation-set: 81.2%\n",
      "Accuracy on test-set: 95.4%\n",
      "Optimization Iteration:   1101, Training Accuracy:  99.7%\n",
      "Accuracy on validation-set: 81.4%\n",
      "Accuracy on test-set: 95.7%\n",
      "Optimization Iteration:   1201, Training Accuracy:  99.8%\n",
      "Accuracy on validation-set: 81.4%\n",
      "Accuracy on test-set: 95.6%\n",
      "Optimization Iteration:   1301, Training Accuracy:  99.8%\n",
      "Accuracy on validation-set: 81.4%\n",
      "Accuracy on test-set: 95.7%\n",
      "Optimization Iteration:   1401, Training Accuracy:  99.8%\n",
      "Accuracy on validation-set: 81.4%\n",
      "Accuracy on test-set: 95.7%\n",
      "Optimization Iteration:   1501, Training Accuracy:  99.9%\n",
      "Accuracy on validation-set: 81.4%\n",
      "Accuracy on test-set: 95.7%\n",
      "Optimization Iteration:   1601, Training Accuracy:  99.6%\n",
      "Accuracy on validation-set: 81.4%\n",
      "Accuracy on test-set: 95.7%\n",
      "Optimization Iteration:   1701, Training Accuracy:  99.8%\n",
      "Accuracy on validation-set: 81.3%\n",
      "Accuracy on test-set: 95.6%\n",
      "Optimization Iteration:   1801, Training Accuracy:  99.6%\n",
      "Accuracy on validation-set: 81.2%\n",
      "Accuracy on test-set: 95.5%\n",
      "Optimization Iteration:   1901, Training Accuracy:  99.9%\n",
      "Accuracy on validation-set: 81.3%\n",
      "Accuracy on test-set: 95.7%\n",
      "Optimization Iteration:   2001, Training Accuracy:  99.7%\n",
      "Accuracy on validation-set: 81.2%\n",
      "Accuracy on test-set: 95.4%\n",
      "Optimization Iteration:   2101, Training Accuracy:  99.7%\n",
      "Accuracy on validation-set: 81.4%\n",
      "Accuracy on test-set: 95.6%\n",
      "Optimization Iteration:   2201, Training Accuracy:  99.8%\n",
      "Accuracy on validation-set: 81.4%\n",
      "Accuracy on test-set: 95.7%\n",
      "Optimization Iteration:   2301, Training Accuracy:  99.7%\n",
      "Accuracy on validation-set: 81.3%\n",
      "Accuracy on test-set: 95.5%\n",
      "Optimization Iteration:   2401, Training Accuracy:  99.9%\n",
      "Accuracy on validation-set: 81.3%\n",
      "Accuracy on test-set: 95.6%\n",
      "Optimization Iteration:   2501, Training Accuracy:  99.8%\n",
      "Accuracy on validation-set: 81.4%\n",
      "Accuracy on test-set: 95.7%\n",
      "Optimization Iteration:   2601, Training Accuracy:  99.8%\n",
      "Accuracy on validation-set: 81.3%\n",
      "Accuracy on test-set: 95.7%\n",
      "Optimization Iteration:   2701, Training Accuracy:  99.6%\n",
      "Accuracy on validation-set: 81.3%\n",
      "Accuracy on test-set: 95.7%\n",
      "Optimization Iteration:   2801, Training Accuracy:  99.7%\n",
      "Accuracy on validation-set: 81.3%\n",
      "Accuracy on test-set: 95.5%\n",
      "Optimization Iteration:   2901, Training Accuracy:  99.7%\n",
      "Accuracy on validation-set: 81.3%\n",
      "Accuracy on test-set: 95.6%\n",
      "Optimization Iteration:   3001, Training Accuracy:  99.7%\n",
      "Accuracy on validation-set: 81.4%\n",
      "Accuracy on test-set: 95.7%\n",
      "Optimization Iteration:   3101, Training Accuracy:  99.9%\n",
      "Accuracy on validation-set: 81.4%\n",
      "Accuracy on test-set: 95.7%\n",
      "Optimization Iteration:   3201, Training Accuracy:  99.8%\n",
      "Accuracy on validation-set: 81.4%\n",
      "Accuracy on test-set: 95.7%\n",
      "Optimization Iteration:   3301, Training Accuracy:  99.8%\n",
      "Accuracy on validation-set: 81.4%\n",
      "Accuracy on test-set: 95.7%\n",
      "Optimization Iteration:   3401, Training Accuracy:  99.9%\n",
      "Accuracy on validation-set: 81.3%\n",
      "Accuracy on test-set: 95.6%\n",
      "Optimization Iteration:   3501, Training Accuracy:  99.8%\n",
      "Accuracy on validation-set: 81.3%\n",
      "Accuracy on test-set: 95.7%\n",
      "Optimization Iteration:   3601, Training Accuracy:  99.7%\n",
      "Accuracy on validation-set: 81.3%\n",
      "Accuracy on test-set: 95.7%\n",
      "Optimization Iteration:   3701, Training Accuracy:  99.8%\n",
      "Accuracy on validation-set: 81.3%\n",
      "Accuracy on test-set: 95.7%\n",
      "Optimization Iteration:   3801, Training Accuracy:  99.9%\n",
      "Accuracy on validation-set: 81.3%\n",
      "Accuracy on test-set: 95.7%\n",
      "Optimization Iteration:   3901, Training Accuracy:  99.8%\n",
      "Accuracy on validation-set: 81.3%\n",
      "Accuracy on test-set: 95.7%\n",
      "Optimization Iteration:   4001, Training Accuracy:  99.5%\n",
      "Accuracy on validation-set: 81.2%\n",
      "Accuracy on test-set: 95.5%\n",
      "Optimization Iteration:   4101, Training Accuracy:  99.6%\n",
      "Accuracy on validation-set: 81.2%\n",
      "Accuracy on test-set: 95.5%\n",
      "Optimization Iteration:   4201, Training Accuracy:  99.8%\n",
      "Accuracy on validation-set: 81.3%\n",
      "Accuracy on test-set: 95.6%\n",
      "Optimization Iteration:   4301, Training Accuracy:  99.7%\n",
      "Accuracy on validation-set: 81.3%\n",
      "Accuracy on test-set: 95.7%\n",
      "Optimization Iteration:   4401, Training Accuracy:  99.8%\n",
      "Accuracy on validation-set: 81.2%\n",
      "Accuracy on test-set: 95.6%\n",
      "Optimization Iteration:   4501, Training Accuracy:  99.7%\n",
      "Accuracy on validation-set: 81.3%\n",
      "Accuracy on test-set: 95.6%\n",
      "Optimization Iteration:   4601, Training Accuracy:  99.7%\n",
      "Accuracy on validation-set: 81.3%\n",
      "Accuracy on test-set: 95.7%\n",
      "Optimization Iteration:   4701, Training Accuracy:  99.8%\n",
      "Accuracy on validation-set: 81.3%\n",
      "Accuracy on test-set: 95.7%\n",
      "Optimization Iteration:   4801, Training Accuracy:  99.9%\n",
      "Accuracy on validation-set: 81.3%\n",
      "Accuracy on test-set: 95.7%\n",
      "Optimization Iteration:   4901, Training Accuracy:  99.9%\n",
      "Accuracy on validation-set: 81.3%\n",
      "Accuracy on test-set: 95.7%\n",
      "Optimization Iteration:   5001, Training Accuracy:  99.8%\n",
      "Accuracy on validation-set: 81.3%\n",
      "Accuracy on test-set: 95.6%\n",
      "Optimization Iteration:   5101, Training Accuracy:  99.7%\n",
      "Accuracy on validation-set: 81.2%\n",
      "Accuracy on test-set: 95.6%\n",
      "Optimization Iteration:   5201, Training Accuracy:  99.7%\n",
      "Accuracy on validation-set: 81.3%\n",
      "Accuracy on test-set: 95.6%\n",
      "Optimization Iteration:   5301, Training Accuracy:  99.5%\n",
      "Accuracy on validation-set: 81.3%\n",
      "Accuracy on test-set: 95.6%\n",
      "Optimization Iteration:   5401, Training Accuracy:  99.7%\n",
      "Accuracy on validation-set: 81.2%\n",
      "Accuracy on test-set: 95.6%\n",
      "Optimization Iteration:   5501, Training Accuracy:  99.8%\n",
      "Accuracy on validation-set: 81.2%\n",
      "Accuracy on test-set: 95.7%\n",
      "Optimization Iteration:   5601, Training Accuracy:  99.9%\n",
      "Accuracy on validation-set: 81.3%\n",
      "Accuracy on test-set: 95.7%\n",
      "Optimization Iteration:   5701, Training Accuracy:  99.8%\n",
      "Accuracy on validation-set: 81.3%\n",
      "Accuracy on test-set: 95.7%\n",
      "Optimization Iteration:   5801, Training Accuracy:  99.9%\n",
      "Accuracy on validation-set: 81.2%\n",
      "Accuracy on test-set: 95.7%\n",
      "Optimization Iteration:   5901, Training Accuracy:  99.8%\n",
      "Accuracy on validation-set: 81.3%\n",
      "Accuracy on test-set: 95.7%\n",
      "Optimization Iteration:   6001, Training Accuracy:  99.9%\n",
      "Accuracy on validation-set: 81.2%\n",
      "Accuracy on test-set: 95.7%\n",
      "Optimization Iteration:   6101, Training Accuracy:  99.9%\n",
      "Accuracy on validation-set: 81.2%\n",
      "Accuracy on test-set: 95.7%\n",
      "Optimization Iteration:   6201, Training Accuracy:  99.8%\n",
      "Accuracy on validation-set: 81.3%\n",
      "Accuracy on test-set: 95.7%\n",
      "Optimization Iteration:   6301, Training Accuracy:  99.6%\n",
      "Accuracy on validation-set: 81.3%\n",
      "Accuracy on test-set: 95.5%\n",
      "Optimization Iteration:   6401, Training Accuracy:  99.8%\n",
      "Accuracy on validation-set: 81.2%\n",
      "Accuracy on test-set: 95.7%\n",
      "Optimization Iteration:   6501, Training Accuracy:  99.8%\n",
      "Accuracy on validation-set: 81.2%\n",
      "Accuracy on test-set: 95.7%\n",
      "Optimization Iteration:   6601, Training Accuracy:  99.9%\n",
      "Accuracy on validation-set: 81.2%\n",
      "Accuracy on test-set: 95.7%\n",
      "Optimization Iteration:   6701, Training Accuracy:  99.8%\n",
      "Accuracy on validation-set: 81.3%\n",
      "Accuracy on test-set: 95.7%\n",
      "Optimization Iteration:   6801, Training Accuracy:  99.8%\n",
      "Accuracy on validation-set: 81.3%\n",
      "Accuracy on test-set: 95.5%\n",
      "Optimization Iteration:   6901, Training Accuracy:  99.8%\n",
      "Accuracy on validation-set: 81.2%\n",
      "Accuracy on test-set: 95.7%\n",
      "Optimization Iteration:   7001, Training Accuracy:  99.8%\n",
      "Accuracy on validation-set: 81.3%\n",
      "Accuracy on test-set: 95.7%\n",
      "Optimization Iteration:   7101, Training Accuracy:  99.8%\n",
      "Accuracy on validation-set: 81.2%\n",
      "Accuracy on test-set: 95.7%\n",
      "Optimization Iteration:   7201, Training Accuracy:  99.8%\n",
      "Accuracy on validation-set: 81.2%\n",
      "Accuracy on test-set: 95.6%\n",
      "Optimization Iteration:   7301, Training Accuracy:  99.8%\n",
      "Accuracy on validation-set: 81.2%\n",
      "Accuracy on test-set: 95.7%\n",
      "Optimization Iteration:   7401, Training Accuracy:  99.8%\n",
      "Accuracy on validation-set: 81.3%\n",
      "Accuracy on test-set: 95.7%\n",
      "Optimization Iteration:   7501, Training Accuracy:  99.7%\n",
      "Accuracy on validation-set: 81.3%\n",
      "Accuracy on test-set: 95.7%\n",
      "Optimization Iteration:   7601, Training Accuracy:  99.8%\n",
      "Accuracy on validation-set: 81.2%\n",
      "Accuracy on test-set: 95.7%\n",
      "Optimization Iteration:   7701, Training Accuracy:  99.9%\n",
      "Accuracy on validation-set: 81.2%\n",
      "Accuracy on test-set: 95.7%\n",
      "Optimization Iteration:   7801, Training Accuracy:  99.9%\n",
      "Accuracy on validation-set: 81.2%\n",
      "Accuracy on test-set: 95.7%\n",
      "Optimization Iteration:   7901, Training Accuracy:  99.9%\n",
      "Accuracy on validation-set: 81.2%\n",
      "Accuracy on test-set: 95.7%\n",
      "Optimization Iteration:   8001, Training Accuracy:  99.7%\n",
      "Accuracy on validation-set: 81.2%\n",
      "Accuracy on test-set: 95.7%\n",
      "Optimization Iteration:   8101, Training Accuracy:  99.9%\n",
      "Accuracy on validation-set: 81.2%\n",
      "Accuracy on test-set: 95.7%\n",
      "Optimization Iteration:   8201, Training Accuracy:  99.9%\n",
      "Accuracy on validation-set: 81.2%\n",
      "Accuracy on test-set: 95.7%\n",
      "Optimization Iteration:   8301, Training Accuracy:  99.8%\n",
      "Accuracy on validation-set: 81.2%\n",
      "Accuracy on test-set: 95.6%\n",
      "Optimization Iteration:   8401, Training Accuracy:  99.8%\n",
      "Accuracy on validation-set: 81.2%\n",
      "Accuracy on test-set: 95.7%\n",
      "Optimization Iteration:   8501, Training Accuracy:  99.9%\n",
      "Accuracy on validation-set: 81.1%\n",
      "Accuracy on test-set: 95.7%\n",
      "Optimization Iteration:   8601, Training Accuracy:  99.7%\n",
      "Accuracy on validation-set: 81.2%\n",
      "Accuracy on test-set: 95.6%\n",
      "Optimization Iteration:   8701, Training Accuracy:  99.8%\n",
      "Accuracy on validation-set: 81.3%\n",
      "Accuracy on test-set: 95.7%\n",
      "Optimization Iteration:   8801, Training Accuracy:  99.8%\n",
      "Accuracy on validation-set: 81.3%\n",
      "Accuracy on test-set: 95.7%\n",
      "Optimization Iteration:   8901, Training Accuracy:  99.8%\n",
      "Accuracy on validation-set: 81.2%\n",
      "Accuracy on test-set: 95.7%\n",
      "Optimization Iteration:   9001, Training Accuracy:  99.6%\n",
      "Accuracy on validation-set: 81.1%\n",
      "Accuracy on test-set: 95.6%\n",
      "Optimization Iteration:   9101, Training Accuracy:  99.9%\n",
      "Accuracy on validation-set: 81.2%\n",
      "Accuracy on test-set: 95.7%\n",
      "Optimization Iteration:   9201, Training Accuracy:  99.8%\n",
      "Accuracy on validation-set: 81.1%\n",
      "Accuracy on test-set: 95.7%\n",
      "Optimization Iteration:   9301, Training Accuracy:  99.9%\n",
      "Accuracy on validation-set: 81.2%\n",
      "Accuracy on test-set: 95.7%\n",
      "Optimization Iteration:   9401, Training Accuracy:  99.8%\n",
      "Accuracy on validation-set: 81.2%\n",
      "Accuracy on test-set: 95.7%\n",
      "Optimization Iteration:   9501, Training Accuracy:  99.8%\n",
      "Accuracy on validation-set: 81.2%\n",
      "Accuracy on test-set: 95.7%\n",
      "Optimization Iteration:   9601, Training Accuracy:  99.9%\n",
      "Accuracy on validation-set: 81.1%\n",
      "Accuracy on test-set: 95.7%\n",
      "Optimization Iteration:   9701, Training Accuracy:  99.8%\n",
      "Accuracy on validation-set: 81.2%\n",
      "Accuracy on test-set: 95.7%\n",
      "Optimization Iteration:   9801, Training Accuracy:  99.8%\n",
      "Accuracy on validation-set: 81.2%\n",
      "Accuracy on test-set: 95.6%\n",
      "Optimization Iteration:   9901, Training Accuracy:  99.7%\n",
      "Accuracy on validation-set: 81.2%\n",
      "Accuracy on test-set: 95.6%\n",
      "Model saved in file: C:/Users/Konstantin/Machine Learning/NIST Handwritten project/NIST_classifier/model_save/my_model-10000\n",
      "Time usage: 0:46:31\n",
      "Accuracy on test-set: 95.7%\n"
     ]
    },
    {
     "data": {
      "image/png": "[encoded data removed]",
      "text/plain": [
       "<matplotlib.figure.Figure at 0x24b9007d240>"
      ]
     },
     "metadata": {},
     "output_type": "display_data"
    }
   ],
   "source": [
    "optimize(num_iterations=10000)\n",
    "print_accuracy_test()\n",
    "plot_example_errors()"
   ]
  },
  {
   "cell_type": "code",
   "execution_count": 156,
   "metadata": {
    "collapsed": false,
    "deletable": true,
    "editable": true
   },
   "outputs": [],
   "source": [
    "from sklearn.metrics import confusion_matrix\n",
    "def plot_confusion_matrix(cls_pred):\n",
    "    # cls_pred is an array of the predicted class-number for\n",
    "    # all images in the test-set.\n",
    "\n",
    "    # Get the true classifications for the test-set.\n",
    "    cls_true = test_data.test.cls\n",
    "    \n",
    "    # Get the confusion matrix using sklearn.\n",
    "    cm = confusion_matrix(y_true=cls_true,\n",
    "                          y_pred=cls_pred)\n",
    "\n",
    "    # Print the confusion matrix as text.\n",
    "    print(cm)\n",
    "\n",
    "    # Plot the confusion matrix as an image.\n",
    "    plt.matshow(cm)\n",
    "\n",
    "    # Make various adjustments to the plot.\n",
    "    plt.colorbar()\n",
    "    tick_marks = np.arange(num_classes)\n",
    "    plt.xticks(tick_marks, range(num_classes))\n",
    "    plt.yticks(tick_marks, range(num_classes))\n",
    "    plt.xlabel('Predicted')\n",
    "    plt.ylabel('True')\n",
    "\n",
    "    # Ensure the plot is shown correctly with multiple plots\n",
    "    # in a single Notebook cell.\n",
    "    plt.show()"
   ]
  },
  {
   "cell_type": "code",
   "execution_count": 157,
   "metadata": {
    "collapsed": false,
    "deletable": true,
    "editable": true
   },
   "outputs": [],
   "source": [
    "cls_pred = session.run([y_pred_cls],feed_dict=feed_dict_test)"
   ]
  },
  {
   "cell_type": "code",
   "execution_count": 158,
   "metadata": {
    "collapsed": false,
    "deletable": true,
    "editable": true
   },
   "outputs": [
    {
     "ename": "ValueError",
     "evalue": "Found input variables with inconsistent numbers of samples: [31000, 1]",
     "output_type": "error",
     "traceback": [
      "\u001b[1;31m---------------------------------------------------------------------------\u001b[0m",
      "\u001b[1;31mValueError\u001b[0m                                Traceback (most recent call last)",
      "\u001b[1;32m<ipython-input-158-6475dc904caa>\u001b[0m in \u001b[0;36m<module>\u001b[1;34m()\u001b[0m\n\u001b[1;32m----> 1\u001b[1;33m \u001b[0mplot_confusion_matrix\u001b[0m\u001b[1;33m(\u001b[0m\u001b[0mcls_pred\u001b[0m\u001b[1;33m=\u001b[0m\u001b[0mcls_pred\u001b[0m\u001b[1;33m)\u001b[0m\u001b[1;33m\u001b[0m\u001b[0m\n\u001b[0m",
      "\u001b[1;32m<ipython-input-156-ed61fb399ee5>\u001b[0m in \u001b[0;36mplot_confusion_matrix\u001b[1;34m(cls_pred)\u001b[0m\n\u001b[0;32m      9\u001b[0m     \u001b[1;31m# Get the confusion matrix using sklearn.\u001b[0m\u001b[1;33m\u001b[0m\u001b[1;33m\u001b[0m\u001b[0m\n\u001b[0;32m     10\u001b[0m     cm = confusion_matrix(y_true=cls_true,\n\u001b[1;32m---> 11\u001b[1;33m                           y_pred=cls_pred)\n\u001b[0m\u001b[0;32m     12\u001b[0m \u001b[1;33m\u001b[0m\u001b[0m\n\u001b[0;32m     13\u001b[0m     \u001b[1;31m# Print the confusion matrix as text.\u001b[0m\u001b[1;33m\u001b[0m\u001b[1;33m\u001b[0m\u001b[0m\n",
      "\u001b[1;32mC:\\Users\\Konstantin\\Anaconda3\\envs\\tensorflow\\lib\\site-packages\\sklearn\\metrics\\classification.py\u001b[0m in \u001b[0;36mconfusion_matrix\u001b[1;34m(y_true, y_pred, labels, sample_weight)\u001b[0m\n\u001b[0;32m    238\u001b[0m \u001b[1;33m\u001b[0m\u001b[0m\n\u001b[0;32m    239\u001b[0m     \"\"\"\n\u001b[1;32m--> 240\u001b[1;33m     \u001b[0my_type\u001b[0m\u001b[1;33m,\u001b[0m \u001b[0my_true\u001b[0m\u001b[1;33m,\u001b[0m \u001b[0my_pred\u001b[0m \u001b[1;33m=\u001b[0m \u001b[0m_check_targets\u001b[0m\u001b[1;33m(\u001b[0m\u001b[0my_true\u001b[0m\u001b[1;33m,\u001b[0m \u001b[0my_pred\u001b[0m\u001b[1;33m)\u001b[0m\u001b[1;33m\u001b[0m\u001b[0m\n\u001b[0m\u001b[0;32m    241\u001b[0m     \u001b[1;32mif\u001b[0m \u001b[0my_type\u001b[0m \u001b[1;32mnot\u001b[0m \u001b[1;32min\u001b[0m \u001b[1;33m(\u001b[0m\u001b[1;34m\"binary\"\u001b[0m\u001b[1;33m,\u001b[0m \u001b[1;34m\"multiclass\"\u001b[0m\u001b[1;33m)\u001b[0m\u001b[1;33m:\u001b[0m\u001b[1;33m\u001b[0m\u001b[0m\n\u001b[0;32m    242\u001b[0m         \u001b[1;32mraise\u001b[0m \u001b[0mValueError\u001b[0m\u001b[1;33m(\u001b[0m\u001b[1;34m\"%s is not supported\"\u001b[0m \u001b[1;33m%\u001b[0m \u001b[0my_type\u001b[0m\u001b[1;33m)\u001b[0m\u001b[1;33m\u001b[0m\u001b[0m\n",
      "\u001b[1;32mC:\\Users\\Konstantin\\Anaconda3\\envs\\tensorflow\\lib\\site-packages\\sklearn\\metrics\\classification.py\u001b[0m in \u001b[0;36m_check_targets\u001b[1;34m(y_true, y_pred)\u001b[0m\n\u001b[0;32m     70\u001b[0m     \u001b[0my_pred\u001b[0m \u001b[1;33m:\u001b[0m \u001b[0marray\u001b[0m \u001b[1;32mor\u001b[0m \u001b[0mindicator\u001b[0m \u001b[0mmatrix\u001b[0m\u001b[1;33m\u001b[0m\u001b[0m\n\u001b[0;32m     71\u001b[0m     \"\"\"\n\u001b[1;32m---> 72\u001b[1;33m     \u001b[0mcheck_consistent_length\u001b[0m\u001b[1;33m(\u001b[0m\u001b[0my_true\u001b[0m\u001b[1;33m,\u001b[0m \u001b[0my_pred\u001b[0m\u001b[1;33m)\u001b[0m\u001b[1;33m\u001b[0m\u001b[0m\n\u001b[0m\u001b[0;32m     73\u001b[0m     \u001b[0mtype_true\u001b[0m \u001b[1;33m=\u001b[0m \u001b[0mtype_of_target\u001b[0m\u001b[1;33m(\u001b[0m\u001b[0my_true\u001b[0m\u001b[1;33m)\u001b[0m\u001b[1;33m\u001b[0m\u001b[0m\n\u001b[0;32m     74\u001b[0m     \u001b[0mtype_pred\u001b[0m \u001b[1;33m=\u001b[0m \u001b[0mtype_of_target\u001b[0m\u001b[1;33m(\u001b[0m\u001b[0my_pred\u001b[0m\u001b[1;33m)\u001b[0m\u001b[1;33m\u001b[0m\u001b[0m\n",
      "\u001b[1;32mC:\\Users\\Konstantin\\Anaconda3\\envs\\tensorflow\\lib\\site-packages\\sklearn\\utils\\validation.py\u001b[0m in \u001b[0;36mcheck_consistent_length\u001b[1;34m(*arrays)\u001b[0m\n\u001b[0;32m    179\u001b[0m     \u001b[1;32mif\u001b[0m \u001b[0mlen\u001b[0m\u001b[1;33m(\u001b[0m\u001b[0muniques\u001b[0m\u001b[1;33m)\u001b[0m \u001b[1;33m>\u001b[0m \u001b[1;36m1\u001b[0m\u001b[1;33m:\u001b[0m\u001b[1;33m\u001b[0m\u001b[0m\n\u001b[0;32m    180\u001b[0m         raise ValueError(\"Found input variables with inconsistent numbers of\"\n\u001b[1;32m--> 181\u001b[1;33m                          \" samples: %r\" % [int(l) for l in lengths])\n\u001b[0m\u001b[0;32m    182\u001b[0m \u001b[1;33m\u001b[0m\u001b[0m\n\u001b[0;32m    183\u001b[0m \u001b[1;33m\u001b[0m\u001b[0m\n",
      "\u001b[1;31mValueError\u001b[0m: Found input variables with inconsistent numbers of samples: [31000, 1]"
     ]
    }
   ],
   "source": [
    "plot_confusion_matrix(cls_pred=cls_pred)"
   ]
  },
  {
   "cell_type": "code",
   "execution_count": null,
   "metadata": {
    "collapsed": true,
    "deletable": true,
    "editable": true
   },
   "outputs": [],
   "source": []
  },
  {
   "cell_type": "code",
   "execution_count": null,
   "metadata": {
    "collapsed": true,
    "deletable": true,
    "editable": true
   },
   "outputs": [],
   "source": []
  },
  {
   "cell_type": "markdown",
   "metadata": {
    "deletable": true,
    "editable": true
   },
   "source": [
    "# Save and reload"
   ]
  },
  {
   "cell_type": "code",
   "execution_count": null,
   "metadata": {
    "collapsed": false,
    "deletable": true,
    "editable": true
   },
   "outputs": [],
   "source": []
  },
  {
   "cell_type": "code",
   "execution_count": null,
   "metadata": {
    "collapsed": false,
    "deletable": true,
    "editable": true
   },
   "outputs": [],
   "source": []
  },
  {
   "cell_type": "code",
   "execution_count": null,
   "metadata": {
    "collapsed": false,
    "deletable": true,
    "editable": true
   },
   "outputs": [],
   "source": []
  },
  {
   "cell_type": "code",
   "execution_count": null,
   "metadata": {
    "collapsed": false,
    "deletable": true,
    "editable": true
   },
   "outputs": [],
   "source": []
  },
  {
   "cell_type": "code",
   "execution_count": null,
   "metadata": {
    "collapsed": true,
    "deletable": true,
    "editable": true
   },
   "outputs": [],
   "source": []
  },
  {
   "cell_type": "markdown",
   "metadata": {
    "deletable": true,
    "editable": true
   },
   "source": [
    "## 10000 iteration opt"
   ]
  },
  {
   "cell_type": "code",
   "execution_count": null,
   "metadata": {
    "collapsed": false,
    "deletable": true,
    "editable": true
   },
   "outputs": [],
   "source": [
    "optimize(num_iterations=10000)\n",
    "print_accuracy_test()\n",
    "plot_example_errors()"
   ]
  },
  {
   "cell_type": "code",
   "execution_count": null,
   "metadata": {
    "collapsed": false,
    "deletable": true,
    "editable": true
   },
   "outputs": [],
   "source": [
    "optimize(num_iterations=1000)\n",
    "print_accuracy_test()\n",
    "plot_example_errors()"
   ]
  },
  {
   "cell_type": "code",
   "execution_count": null,
   "metadata": {
    "collapsed": false,
    "deletable": true,
    "editable": true
   },
   "outputs": [],
   "source": []
  },
  {
   "cell_type": "code",
   "execution_count": null,
   "metadata": {
    "collapsed": false,
    "deletable": true,
    "editable": true
   },
   "outputs": [],
   "source": []
  },
  {
   "cell_type": "code",
   "execution_count": null,
   "metadata": {
    "collapsed": false,
    "deletable": true,
    "editable": true
   },
   "outputs": [],
   "source": []
  },
  {
   "cell_type": "code",
   "execution_count": null,
   "metadata": {
    "collapsed": false,
    "deletable": true,
    "editable": true
   },
   "outputs": [],
   "source": []
  },
  {
   "cell_type": "code",
   "execution_count": null,
   "metadata": {
    "collapsed": false,
    "deletable": true,
    "editable": true
   },
   "outputs": [],
   "source": [
    "\n",
    "def plot_examples_test():\n",
    "\n",
    "    correct, cls_pred = session.run([correct_prediction, y_pred_cls],\n",
    "                                    feed_dict=feed_dict_test)\n",
    "\n",
    "    incorrect = (correct == False)\n",
    "    images = images_test[incorrect]\n",
    "    cls_pred = cls_pred[incorrect]\n",
    "    cls_true = cls_test[incorrect]\n",
    "    \n",
    "    # Plot the first 9 images.\n",
    "    plot_images(images=images[197:],\n",
    "                cls_true=cls_true[197:],\n",
    "                cls_pred=cls_pred[197:])"
   ]
  },
  {
   "cell_type": "code",
   "execution_count": null,
   "metadata": {
    "collapsed": false,
    "deletable": true,
    "editable": true
   },
   "outputs": [],
   "source": [
    "plot_examples_test()"
   ]
  },
  {
   "cell_type": "code",
   "execution_count": null,
   "metadata": {
    "collapsed": false,
    "deletable": true,
    "editable": true
   },
   "outputs": [],
   "source": [
    "def plot_images(images, cls_true, cls_pred=None):\n",
    "    \n",
    "    if len(images) == 0:\n",
    "        print(\"no images to show\")\n",
    "        return \n",
    "    else:\n",
    "        random_indices = random.sample(range(len(images)), min(len(images), 9))\n",
    "        \n",
    "        \n",
    "    images, cls_true  = zip(*[(images[i], cls_true[i]) for i in random_indices])\n",
    "    \n",
    "    fig, axes = plt.subplots(2, 3)\n",
    "    fig.subplots_adjust(hspace=0.3, wspace=0.3)\n",
    "\n",
    "    for i, ax in enumerate(axes.flat):\n",
    "\n",
    "        ax.imshow(images[i].reshape(img_size, img_size, num_channels))\n",
    "\n",
    "\n",
    "        if cls_pred is None:\n",
    "            xlabel = \"True: {0}\".format(cls_true[i])\n",
    "        else:\n",
    "            xlabel = \"True: {0}, Pred: {1}\".format(cls_true[i], cls_pred[i])\n",
    "\n",
    "        ax.set_xlabel(xlabel)\n",
    "        ax.set_xticks([])\n",
    "        ax.set_yticks([])\n",
    "    \n",
    "    plt.show()\n",
    "def plot_examples_valid():\n",
    "\n",
    "    correct, cls_pred = session.run([correct_prediction, y_pred_cls],\n",
    "                                    feed_dict=feed_dict_valid)\n",
    "\n",
    "    incorrect = (correct == False)\n",
    "    images = images_test[incorrect]\n",
    "    cls_pred = cls_pred[incorrect]\n",
    "    cls_true = cls_test[incorrect]\n",
    "    \n",
    "    # Plot the first 9 images.\n",
    "    plot_images(images=images[0:],\n",
    "                cls_true=cls_true[0:],\n",
    "                cls_pred=cls_pred[0:])"
   ]
  },
  {
   "cell_type": "code",
   "execution_count": null,
   "metadata": {
    "collapsed": false,
    "deletable": true,
    "editable": true,
    "scrolled": true
   },
   "outputs": [],
   "source": [
    "plot_examples_valid()"
   ]
  },
  {
   "cell_type": "markdown",
   "metadata": {
    "collapsed": false,
    "deletable": true,
    "editable": true
   },
   "source": [
    "## Load a new image for testing"
   ]
  },
  {
   "cell_type": "code",
   "execution_count": null,
   "metadata": {
    "collapsed": false,
    "deletable": true,
    "editable": true
   },
   "outputs": [],
   "source": [
    "custom_path='C:/Users/Konstantin/Machine Learning/NIST Handwritten project/NIST_classifier/custom'\n",
    "custom_test_data=dataset.read_custom_image(custom_path, img_size,classes)\n",
    "custom_image_test=custom_test_data.test.images\n",
    "custom_cls_test=custom_test_data.test.cls\n",
    "custom_label_test=custom_test_data.test.labels\n",
    "custom_id_test=custom_test_data.test.ids"
   ]
  },
  {
   "cell_type": "code",
   "execution_count": null,
   "metadata": {
    "collapsed": false,
    "deletable": true,
    "editable": true,
    "scrolled": true
   },
   "outputs": [],
   "source": [
    "def plot_custom_image(images, cls_true, cls_pred=None):\n",
    "    \n",
    "    if len(images) == 0:\n",
    "        print(\"no images to show\")\n",
    "        return \n",
    "    else:\n",
    "        random_indices = random.sample(range(len(images)), min(len(images), 9))\n",
    "        \n",
    "        \n",
    "    images, cls_true  = zip(*[(images[i], cls_true[i]) for i in random_indices])\n",
    "    \n",
    "    fig, axes = plt.subplots(1, 1)\n",
    "    fig.subplots_adjust(hspace=0.3, wspace=0.3)\n",
    "\n",
    "    axes.imshow(images[0].reshape(img_size,img_size,num_channels))\n",
    "\n",
    "\n",
    "    if cls_pred is None:\n",
    "        xlabel = \"True: {0}\".format(cls_true[0])\n",
    "    else:\n",
    "        xlabel = \"True: {0}, Pred: {1}\".format(cls_true[0], cls_pred[0])\n",
    "\n",
    "    axes.set_xlabel(xlabel)\n",
    "    axes.set_xticks([])\n",
    "    axes.set_yticks([])\n",
    "    \n",
    "    plt.show()\n",
    "\n",
    "plot_custom_image(images=custom_image_test, cls_true=custom_cls_test)"
   ]
  },
  {
   "cell_type": "code",
   "execution_count": null,
   "metadata": {
    "collapsed": false,
    "deletable": true,
    "editable": true
   },
   "outputs": [],
   "source": [
    "print(\"Processing VGG 16 transfer-value for custom image ...\")\n",
    "custom_file_path_cache_test = os.path.join(cache_path, 'vgg16_custom.pkl')\n",
    "custom_transfer_value_test = transfer_values_calc(images=custom_image_test,\n",
    "                                             model=model)"
   ]
  },
  {
   "cell_type": "code",
   "execution_count": null,
   "metadata": {
    "collapsed": false,
    "deletable": true,
    "editable": true
   },
   "outputs": [],
   "source": [
    "custom_transfer_value_test_r=custom_transfer_value_test.reshape(len(custom_test_data.test.labels),8192)"
   ]
  },
  {
   "cell_type": "code",
   "execution_count": null,
   "metadata": {
    "collapsed": false,
    "deletable": true,
    "editable": true
   },
   "outputs": [],
   "source": [
    "custom_cls_test = np.array([label.argmax() for label in custom_label_test])"
   ]
  },
  {
   "cell_type": "code",
   "execution_count": null,
   "metadata": {
    "collapsed": false,
    "deletable": true,
    "editable": true
   },
   "outputs": [],
   "source": [
    "\n",
    "feed_dict_test = {x: custom_transfer_value_test_r,\n",
    "                  y_true: custom_label_test,\n",
    "                  y_true_cls: custom_cls_test}"
   ]
  },
  {
   "cell_type": "code",
   "execution_count": null,
   "metadata": {
    "collapsed": false,
    "deletable": true,
    "editable": true,
    "scrolled": true
   },
   "outputs": [],
   "source": [
    "def plot_custom_image(images, cls_true, cls_pred):\n",
    "    \n",
    "    if len(images) == 0:\n",
    "        print(\"no images to show\")\n",
    "        return \n",
    "    else:\n",
    "        random_indices = random.sample(range(len(images)), min(len(images), 9))\n",
    "        \n",
    "        \n",
    "    images, cls_true  = zip(*[(images[i], cls_true[i]) for i in random_indices])\n",
    "    \n",
    "    fig, axes = plt.subplots(1, 1)\n",
    "    fig.subplots_adjust(hspace=0.3, wspace=0.3)\n",
    "\n",
    "    axes.imshow(images[0].reshape(img_size, img_size, num_channels))\n",
    "\n",
    "\n",
    "    if cls_pred is None:\n",
    "        xlabel = \"True: {0}\".format(cls_true[0])\n",
    "    else:\n",
    "        xlabel = \"True: {0}, Pred: {1}\".format(cls_true[0], cls_pred[0])\n",
    "\n",
    "    axes.set_xlabel(xlabel)\n",
    "    axes.set_xticks([])\n",
    "    axes.set_yticks([])\n",
    "    \n",
    "    plt.show()\n",
    "    \n",
    "plot_custom_image(images=custom_image_test, cls_true=custom_cls_test,cls_pred = session.run([y_pred_cls],\n",
    "                                    feed_dict=feed_dict_test))"
   ]
  },
  {
   "cell_type": "code",
   "execution_count": null,
   "metadata": {
    "collapsed": false,
    "deletable": true,
    "editable": true
   },
   "outputs": [],
   "source": [
    "optimize(num_iterations=100)"
   ]
  },
  {
   "cell_type": "code",
   "execution_count": null,
   "metadata": {
    "collapsed": false,
    "deletable": true,
    "editable": true
   },
   "outputs": [],
   "source": [
    "plot_custom_image(images=custom_image_test, cls_true=custom_cls_test,cls_pred = session.run([y_pred_cls],\n",
    "                                    feed_dict=feed_dict_test))"
   ]
  },
  {
   "cell_type": "code",
   "execution_count": null,
   "metadata": {
    "collapsed": false,
    "deletable": true,
    "editable": true
   },
   "outputs": [],
   "source": [
    "optimize(num_iterations=1000)"
   ]
  },
  {
   "cell_type": "code",
   "execution_count": null,
   "metadata": {
    "collapsed": false,
    "deletable": true,
    "editable": true
   },
   "outputs": [],
   "source": [
    "plot_custom_image(images=custom_image_test, cls_true=custom_cls_test,cls_pred = session.run([y_pred_cls],\n",
    "                                    feed_dict=feed_dict_test))"
   ]
  },
  {
   "cell_type": "code",
   "execution_count": null,
   "metadata": {
    "collapsed": true,
    "deletable": true,
    "editable": true
   },
   "outputs": [],
   "source": []
  }
 ],
 "metadata": {
  "kernelspec": {
   "display_name": "Python 3",
   "language": "python",
   "name": "python3"
  },
  "language_info": {
   "codemirror_mode": {
    "name": "ipython",
    "version": 3
   },
   "file_extension": ".py",
   "mimetype": "text/x-python",
   "name": "python",
   "nbconvert_exporter": "python",
   "pygments_lexer": "ipython3",
   "version": "3.5.3"
  }
 },
 "nbformat": 4,
 "nbformat_minor": 2
}
